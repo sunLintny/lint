{
 "cells": [
  {
   "cell_type": "markdown",
   "id": "QQa3HBOyaYQ4",
   "metadata": {
    "id": "QQa3HBOyaYQ4",
    "toc": true
   },
   "source": [
    "<h1>Сессия 1<span class=\"tocSkip\"></span></h1>\n",
    "<div class=\"toc\"><ul class=\"toc-item\"><li><span><a href=\"#Подготовка-обучающей-выборки\" data-toc-modified-id=\"Подготовка-обучающей-выборки-1\"><span class=\"toc-item-num\">1&nbsp;&nbsp;</span>Подготовка обучающей выборки</a></span><ul class=\"toc-item\"><li><span><a href=\"#Подключение-бибилиотек\" data-toc-modified-id=\"Подключение-бибилиотек-1.1\"><span class=\"toc-item-num\">1.1&nbsp;&nbsp;</span>Подключение бибилиотек</a></span></li><li><span><a href=\"#Загрузка-данных-по-перевозкам\" data-toc-modified-id=\"Загрузка-данных-по-перевозкам-1.2\"><span class=\"toc-item-num\">1.2&nbsp;&nbsp;</span>Загрузка данных по перевозкам</a></span></li><li><span><a href=\"#объединение-данных-по-перевозкам\" data-toc-modified-id=\"объединение-данных-по-перевозкам-1.3\"><span class=\"toc-item-num\">1.3&nbsp;&nbsp;</span>объединение данных по перевозкам</a></span></li></ul></li><li><span><a href=\"#Форматирование-данных\" data-toc-modified-id=\"Форматирование-данных-2\"><span class=\"toc-item-num\">2&nbsp;&nbsp;</span>Форматирование данных</a></span><ul class=\"toc-item\"><li><span><a href=\"#Осмотр-данных-на-пропуски\" data-toc-modified-id=\"Осмотр-данных-на-пропуски-2.1\"><span class=\"toc-item-num\">2.1&nbsp;&nbsp;</span>Осмотр данных на пропуски</a></span></li><li><span><a href=\"#Осмотр-данных-на-выбросы\" data-toc-modified-id=\"Осмотр-данных-на-выбросы-2.2\"><span class=\"toc-item-num\">2.2&nbsp;&nbsp;</span>Осмотр данных на выбросы</a></span><ul class=\"toc-item\"><li><span><a href=\"#Очистка-выбросов\" data-toc-modified-id=\"Очистка-выбросов-2.2.1\"><span class=\"toc-item-num\">2.2.1&nbsp;&nbsp;</span>Очистка выбросов</a></span></li></ul></li><li><span><a href=\"#Факторизация\" data-toc-modified-id=\"Факторизация-2.3\"><span class=\"toc-item-num\">2.3&nbsp;&nbsp;</span>Факторизация</a></span></li></ul></li><li><span><a href=\"#Дополнение-набора-данных\" data-toc-modified-id=\"Дополнение-набора-данных-3\"><span class=\"toc-item-num\">3&nbsp;&nbsp;</span>Дополнение набора данных</a></span><ul class=\"toc-item\"><li><span><a href=\"#Загрузка-погодных-данных\" data-toc-modified-id=\"Загрузка-погодных-данных-3.1\"><span class=\"toc-item-num\">3.1&nbsp;&nbsp;</span>Загрузка погодных данных</a></span></li><li><span><a href=\"#Форматирование-погодных-данных\" data-toc-modified-id=\"Форматирование-погодных-данных-3.2\"><span class=\"toc-item-num\">3.2&nbsp;&nbsp;</span>Форматирование погодных данных</a></span><ul class=\"toc-item\"><li><span><a href=\"#Осмотр-и-обработка-пропусков\" data-toc-modified-id=\"Осмотр-и-обработка-пропусков-3.2.1\"><span class=\"toc-item-num\">3.2.1&nbsp;&nbsp;</span>Осмотр и обработка пропусков</a></span></li><li><span><a href=\"#Инфо-о-погодных-данных\" data-toc-modified-id=\"Инфо-о-погодных-данных-3.2.2\"><span class=\"toc-item-num\">3.2.2&nbsp;&nbsp;</span>Инфо о погодных данных</a></span></li><li><span><a href=\"#Осмотр-на-выбросы-и-обработка\" data-toc-modified-id=\"Осмотр-на-выбросы-и-обработка-3.2.3\"><span class=\"toc-item-num\">3.2.3&nbsp;&nbsp;</span>Осмотр на выбросы и обработка</a></span></li></ul></li><li><span><a href=\"#Объединение-набора-данных-о-поездках-и-о-погоде\" data-toc-modified-id=\"Объединение-набора-данных-о-поездках-и-о-погоде-3.3\"><span class=\"toc-item-num\">3.3&nbsp;&nbsp;</span>Объединение набора данных о поездках и о погоде</a></span><ul class=\"toc-item\"><li><span><a href=\"#Добавление-временных-признаков\" data-toc-modified-id=\"Добавление-временных-признаков-3.3.1\"><span class=\"toc-item-num\">3.3.1&nbsp;&nbsp;</span>Добавление временных признаков</a></span></li></ul></li></ul></li><li><span><a href=\"#Сохранение-данных-и-вывод-о-проделанной-работе\" data-toc-modified-id=\"Сохранение-данных-и-вывод-о-проделанной-работе-4\"><span class=\"toc-item-num\">4&nbsp;&nbsp;</span>Сохранение данных и вывод о проделанной работе</a></span></li></ul></div>"
   ]
  },
  {
   "cell_type": "markdown",
   "id": "iwqtwUwpaYRB",
   "metadata": {
    "id": "iwqtwUwpaYRB"
   },
   "source": [
    "# Подготовка обучающей выборки"
   ]
  },
  {
   "cell_type": "markdown",
   "id": "6f3yULyHaYRC",
   "metadata": {
    "id": "6f3yULyHaYRC"
   },
   "source": [
    "## Подключение бибилиотек"
   ]
  },
  {
   "cell_type": "code",
   "execution_count": null,
   "id": "jw0YPqzAaYRE",
   "metadata": {
    "id": "jw0YPqzAaYRE"
   },
   "outputs": [],
   "source": [
    "# импорт бибилиотек\n",
    "import numpy as np\n",
    "import pandas as pd\n",
    "import seaborn as sns\n",
    "import matplotlib.pyplot as plt\n",
    "\n",
    "%matplotlib inline"
   ]
  },
  {
   "cell_type": "markdown",
   "id": "08UCspRvaYRG",
   "metadata": {
    "id": "08UCspRvaYRG"
   },
   "source": [
    "## Загрузка данных по перевозкам"
   ]
  },
  {
   "cell_type": "code",
   "execution_count": null,
   "id": "Cj4DVLtWaYRH",
   "metadata": {
    "id": "Cj4DVLtWaYRH"
   },
   "outputs": [],
   "source": [
    "first_part = pd.read_excel('data/train_first_part.xlsx')\n",
    "second_part = pd.read_json('data/train_second_part.json')"
   ]
  },
  {
   "cell_type": "markdown",
   "id": "acXVHYUaaYRI",
   "metadata": {
    "id": "acXVHYUaaYRI"
   },
   "source": [
    "## объединение данных по перевозкам"
   ]
  },
  {
   "cell_type": "code",
   "execution_count": null,
   "id": "n_hx6urIaYRJ",
   "metadata": {
    "id": "n_hx6urIaYRJ",
    "outputId": "bf0b889d-9fde-41d6-99e6-625f9e5b9ff3"
   },
   "outputs": [
    {
     "data": {
      "text/html": [
       "<div>\n",
       "<style scoped>\n",
       "    .dataframe tbody tr th:only-of-type {\n",
       "        vertical-align: middle;\n",
       "    }\n",
       "\n",
       "    .dataframe tbody tr th {\n",
       "        vertical-align: top;\n",
       "    }\n",
       "\n",
       "    .dataframe thead th {\n",
       "        text-align: right;\n",
       "    }\n",
       "</style>\n",
       "<table border=\"1\" class=\"dataframe\">\n",
       "  <thead>\n",
       "    <tr style=\"text-align: right;\">\n",
       "      <th></th>\n",
       "      <th>id</th>\n",
       "      <th>vendor_id</th>\n",
       "      <th>pickup_datetime</th>\n",
       "      <th>dropoff_datetime</th>\n",
       "      <th>passenger_count</th>\n",
       "      <th>pickup_longitude</th>\n",
       "      <th>pickup_latitude</th>\n",
       "      <th>dropoff_longitude</th>\n",
       "      <th>dropoff_latitude</th>\n",
       "      <th>store_and_fwd_flag</th>\n",
       "      <th>trip_duration</th>\n",
       "    </tr>\n",
       "  </thead>\n",
       "  <tbody>\n",
       "    <tr>\n",
       "      <th>0</th>\n",
       "      <td>id2875421</td>\n",
       "      <td>2</td>\n",
       "      <td>2016-03-14 17:24:55</td>\n",
       "      <td>2016-03-14 17:32:30</td>\n",
       "      <td>1</td>\n",
       "      <td>-73.982155</td>\n",
       "      <td>40.767937</td>\n",
       "      <td>-73.964630</td>\n",
       "      <td>40.765602</td>\n",
       "      <td>N</td>\n",
       "      <td>455</td>\n",
       "    </tr>\n",
       "    <tr>\n",
       "      <th>1</th>\n",
       "      <td>id2377394</td>\n",
       "      <td>1</td>\n",
       "      <td>2016-06-12 00:43:35</td>\n",
       "      <td>2016-06-12 00:54:38</td>\n",
       "      <td>1</td>\n",
       "      <td>-73.980415</td>\n",
       "      <td>40.738564</td>\n",
       "      <td>-73.999481</td>\n",
       "      <td>40.731152</td>\n",
       "      <td>N</td>\n",
       "      <td>663</td>\n",
       "    </tr>\n",
       "    <tr>\n",
       "      <th>2</th>\n",
       "      <td>id3858529</td>\n",
       "      <td>2</td>\n",
       "      <td>2016-01-19 11:35:24</td>\n",
       "      <td>2016-01-19 12:10:48</td>\n",
       "      <td>1</td>\n",
       "      <td>-73.979027</td>\n",
       "      <td>40.763939</td>\n",
       "      <td>-74.005333</td>\n",
       "      <td>40.710087</td>\n",
       "      <td>N</td>\n",
       "      <td>2124</td>\n",
       "    </tr>\n",
       "    <tr>\n",
       "      <th>3</th>\n",
       "      <td>id3504673</td>\n",
       "      <td>2</td>\n",
       "      <td>2016-04-06 19:32:31</td>\n",
       "      <td>2016-04-06 19:39:40</td>\n",
       "      <td>1</td>\n",
       "      <td>-74.010040</td>\n",
       "      <td>40.719971</td>\n",
       "      <td>-74.012268</td>\n",
       "      <td>40.706718</td>\n",
       "      <td>N</td>\n",
       "      <td>429</td>\n",
       "    </tr>\n",
       "    <tr>\n",
       "      <th>4</th>\n",
       "      <td>id2181028</td>\n",
       "      <td>2</td>\n",
       "      <td>2016-03-26 13:30:55</td>\n",
       "      <td>2016-03-26 13:38:10</td>\n",
       "      <td>1</td>\n",
       "      <td>-73.973053</td>\n",
       "      <td>40.793209</td>\n",
       "      <td>-73.972923</td>\n",
       "      <td>40.782520</td>\n",
       "      <td>N</td>\n",
       "      <td>435</td>\n",
       "    </tr>\n",
       "  </tbody>\n",
       "</table>\n",
       "</div>"
      ],
      "text/plain": [
       "          id  vendor_id     pickup_datetime    dropoff_datetime  \\\n",
       "0  id2875421          2 2016-03-14 17:24:55 2016-03-14 17:32:30   \n",
       "1  id2377394          1 2016-06-12 00:43:35 2016-06-12 00:54:38   \n",
       "2  id3858529          2 2016-01-19 11:35:24 2016-01-19 12:10:48   \n",
       "3  id3504673          2 2016-04-06 19:32:31 2016-04-06 19:39:40   \n",
       "4  id2181028          2 2016-03-26 13:30:55 2016-03-26 13:38:10   \n",
       "\n",
       "   passenger_count  pickup_longitude  pickup_latitude  dropoff_longitude  \\\n",
       "0                1        -73.982155        40.767937         -73.964630   \n",
       "1                1        -73.980415        40.738564         -73.999481   \n",
       "2                1        -73.979027        40.763939         -74.005333   \n",
       "3                1        -74.010040        40.719971         -74.012268   \n",
       "4                1        -73.973053        40.793209         -73.972923   \n",
       "\n",
       "   dropoff_latitude store_and_fwd_flag  trip_duration  \n",
       "0         40.765602                  N            455  \n",
       "1         40.731152                  N            663  \n",
       "2         40.710087                  N           2124  \n",
       "3         40.706718                  N            429  \n",
       "4         40.782520                  N            435  "
      ]
     },
     "execution_count": 3,
     "metadata": {},
     "output_type": "execute_result"
    }
   ],
   "source": [
    "first_part.head()"
   ]
  },
  {
   "cell_type": "code",
   "execution_count": null,
   "id": "VGa_CdF1aYRM",
   "metadata": {
    "id": "VGa_CdF1aYRM",
    "outputId": "2900ac3e-5df2-4704-d3d7-c62c84211103"
   },
   "outputs": [
    {
     "data": {
      "text/html": [
       "<div>\n",
       "<style scoped>\n",
       "    .dataframe tbody tr th:only-of-type {\n",
       "        vertical-align: middle;\n",
       "    }\n",
       "\n",
       "    .dataframe tbody tr th {\n",
       "        vertical-align: top;\n",
       "    }\n",
       "\n",
       "    .dataframe thead th {\n",
       "        text-align: right;\n",
       "    }\n",
       "</style>\n",
       "<table border=\"1\" class=\"dataframe\">\n",
       "  <thead>\n",
       "    <tr style=\"text-align: right;\">\n",
       "      <th></th>\n",
       "      <th>id</th>\n",
       "      <th>vendor_id</th>\n",
       "      <th>pickup_datetime</th>\n",
       "      <th>dropoff_datetime</th>\n",
       "      <th>passenger_count</th>\n",
       "      <th>pickup_longitude</th>\n",
       "      <th>pickup_latitude</th>\n",
       "      <th>dropoff_longitude</th>\n",
       "      <th>dropoff_latitude</th>\n",
       "      <th>store_and_fwd_flag</th>\n",
       "      <th>trip_duration</th>\n",
       "    </tr>\n",
       "  </thead>\n",
       "  <tbody>\n",
       "    <tr>\n",
       "      <th>0</th>\n",
       "      <td>id3758523</td>\n",
       "      <td>2</td>\n",
       "      <td>6/2/16 2:30</td>\n",
       "      <td>6/2/16 2:50</td>\n",
       "      <td>6</td>\n",
       "      <td>-73.991272</td>\n",
       "      <td>40.697350</td>\n",
       "      <td>-73.989700</td>\n",
       "      <td>40.767689</td>\n",
       "      <td>N</td>\n",
       "      <td>1210</td>\n",
       "    </tr>\n",
       "    <tr>\n",
       "      <th>1</th>\n",
       "      <td>id1849264</td>\n",
       "      <td>2</td>\n",
       "      <td>1/6/16 18:12</td>\n",
       "      <td>1/6/16 18:30</td>\n",
       "      <td>5</td>\n",
       "      <td>-73.988281</td>\n",
       "      <td>40.723385</td>\n",
       "      <td>-74.005089</td>\n",
       "      <td>40.749908</td>\n",
       "      <td>N</td>\n",
       "      <td>1077</td>\n",
       "    </tr>\n",
       "    <tr>\n",
       "      <th>2</th>\n",
       "      <td>id3457947</td>\n",
       "      <td>1</td>\n",
       "      <td>2/28/16 12:09</td>\n",
       "      <td>2/28/16 12:11</td>\n",
       "      <td>1</td>\n",
       "      <td>-73.968872</td>\n",
       "      <td>40.767120</td>\n",
       "      <td>-73.962051</td>\n",
       "      <td>40.776581</td>\n",
       "      <td>N</td>\n",
       "      <td>135</td>\n",
       "    </tr>\n",
       "    <tr>\n",
       "      <th>3</th>\n",
       "      <td>id2181863</td>\n",
       "      <td>2</td>\n",
       "      <td>6/26/16 16:22</td>\n",
       "      <td>6/26/16 16:29</td>\n",
       "      <td>1</td>\n",
       "      <td>-73.982330</td>\n",
       "      <td>40.775517</td>\n",
       "      <td>-73.965622</td>\n",
       "      <td>40.804626</td>\n",
       "      <td>N</td>\n",
       "      <td>415</td>\n",
       "    </tr>\n",
       "    <tr>\n",
       "      <th>4</th>\n",
       "      <td>id1445143</td>\n",
       "      <td>1</td>\n",
       "      <td>5/12/16 22:43</td>\n",
       "      <td>5/12/16 22:57</td>\n",
       "      <td>2</td>\n",
       "      <td>-73.966698</td>\n",
       "      <td>40.764000</td>\n",
       "      <td>-73.938751</td>\n",
       "      <td>40.766308</td>\n",
       "      <td>N</td>\n",
       "      <td>810</td>\n",
       "    </tr>\n",
       "  </tbody>\n",
       "</table>\n",
       "</div>"
      ],
      "text/plain": [
       "          id  vendor_id pickup_datetime dropoff_datetime  passenger_count  \\\n",
       "0  id3758523          2     6/2/16 2:30      6/2/16 2:50                6   \n",
       "1  id1849264          2    1/6/16 18:12     1/6/16 18:30                5   \n",
       "2  id3457947          1   2/28/16 12:09    2/28/16 12:11                1   \n",
       "3  id2181863          2   6/26/16 16:22    6/26/16 16:29                1   \n",
       "4  id1445143          1   5/12/16 22:43    5/12/16 22:57                2   \n",
       "\n",
       "   pickup_longitude  pickup_latitude  dropoff_longitude  dropoff_latitude  \\\n",
       "0        -73.991272        40.697350         -73.989700         40.767689   \n",
       "1        -73.988281        40.723385         -74.005089         40.749908   \n",
       "2        -73.968872        40.767120         -73.962051         40.776581   \n",
       "3        -73.982330        40.775517         -73.965622         40.804626   \n",
       "4        -73.966698        40.764000         -73.938751         40.766308   \n",
       "\n",
       "  store_and_fwd_flag  trip_duration  \n",
       "0                  N           1210  \n",
       "1                  N           1077  \n",
       "2                  N            135  \n",
       "3                  N            415  \n",
       "4                  N            810  "
      ]
     },
     "execution_count": 4,
     "metadata": {},
     "output_type": "execute_result"
    }
   ],
   "source": [
    "second_part.head()"
   ]
  },
  {
   "cell_type": "markdown",
   "id": "aQdXL_5KaYRN",
   "metadata": {
    "id": "aQdXL_5KaYRN"
   },
   "source": [
    "После загрузки данных мы видим, что наборы имеют одинаковые столбцы, поэтому объединим их в один датафрейм(в конец первой части добавим вторую) и удалим неинформативный признак id , т.к. он не несет в себе смысловой нагрузки и нам ни о чем не говорит, и также очистим данные от дубликатов"
   ]
  },
  {
   "cell_type": "code",
   "execution_count": null,
   "id": "HwrpxsWXaYRO",
   "metadata": {
    "id": "HwrpxsWXaYRO",
    "outputId": "98bdf6e4-94ab-4407-8be4-6461ed72b21f"
   },
   "outputs": [
    {
     "data": {
      "text/html": [
       "<div>\n",
       "<style scoped>\n",
       "    .dataframe tbody tr th:only-of-type {\n",
       "        vertical-align: middle;\n",
       "    }\n",
       "\n",
       "    .dataframe tbody tr th {\n",
       "        vertical-align: top;\n",
       "    }\n",
       "\n",
       "    .dataframe thead th {\n",
       "        text-align: right;\n",
       "    }\n",
       "</style>\n",
       "<table border=\"1\" class=\"dataframe\">\n",
       "  <thead>\n",
       "    <tr style=\"text-align: right;\">\n",
       "      <th></th>\n",
       "      <th>vendor_id</th>\n",
       "      <th>pickup_datetime</th>\n",
       "      <th>dropoff_datetime</th>\n",
       "      <th>passenger_count</th>\n",
       "      <th>pickup_longitude</th>\n",
       "      <th>pickup_latitude</th>\n",
       "      <th>dropoff_longitude</th>\n",
       "      <th>dropoff_latitude</th>\n",
       "      <th>store_and_fwd_flag</th>\n",
       "      <th>trip_duration</th>\n",
       "    </tr>\n",
       "  </thead>\n",
       "  <tbody>\n",
       "    <tr>\n",
       "      <th>0</th>\n",
       "      <td>2</td>\n",
       "      <td>2016-03-14 17:24:55</td>\n",
       "      <td>2016-03-14 17:32:30</td>\n",
       "      <td>1</td>\n",
       "      <td>-73.982155</td>\n",
       "      <td>40.767937</td>\n",
       "      <td>-73.964630</td>\n",
       "      <td>40.765602</td>\n",
       "      <td>N</td>\n",
       "      <td>455</td>\n",
       "    </tr>\n",
       "    <tr>\n",
       "      <th>1</th>\n",
       "      <td>1</td>\n",
       "      <td>2016-06-12 00:43:35</td>\n",
       "      <td>2016-06-12 00:54:38</td>\n",
       "      <td>1</td>\n",
       "      <td>-73.980415</td>\n",
       "      <td>40.738564</td>\n",
       "      <td>-73.999481</td>\n",
       "      <td>40.731152</td>\n",
       "      <td>N</td>\n",
       "      <td>663</td>\n",
       "    </tr>\n",
       "    <tr>\n",
       "      <th>2</th>\n",
       "      <td>2</td>\n",
       "      <td>2016-01-19 11:35:24</td>\n",
       "      <td>2016-01-19 12:10:48</td>\n",
       "      <td>1</td>\n",
       "      <td>-73.979027</td>\n",
       "      <td>40.763939</td>\n",
       "      <td>-74.005333</td>\n",
       "      <td>40.710087</td>\n",
       "      <td>N</td>\n",
       "      <td>2124</td>\n",
       "    </tr>\n",
       "    <tr>\n",
       "      <th>3</th>\n",
       "      <td>2</td>\n",
       "      <td>2016-04-06 19:32:31</td>\n",
       "      <td>2016-04-06 19:39:40</td>\n",
       "      <td>1</td>\n",
       "      <td>-74.010040</td>\n",
       "      <td>40.719971</td>\n",
       "      <td>-74.012268</td>\n",
       "      <td>40.706718</td>\n",
       "      <td>N</td>\n",
       "      <td>429</td>\n",
       "    </tr>\n",
       "    <tr>\n",
       "      <th>4</th>\n",
       "      <td>2</td>\n",
       "      <td>2016-03-26 13:30:55</td>\n",
       "      <td>2016-03-26 13:38:10</td>\n",
       "      <td>1</td>\n",
       "      <td>-73.973053</td>\n",
       "      <td>40.793209</td>\n",
       "      <td>-73.972923</td>\n",
       "      <td>40.782520</td>\n",
       "      <td>N</td>\n",
       "      <td>435</td>\n",
       "    </tr>\n",
       "    <tr>\n",
       "      <th>...</th>\n",
       "      <td>...</td>\n",
       "      <td>...</td>\n",
       "      <td>...</td>\n",
       "      <td>...</td>\n",
       "      <td>...</td>\n",
       "      <td>...</td>\n",
       "      <td>...</td>\n",
       "      <td>...</td>\n",
       "      <td>...</td>\n",
       "      <td>...</td>\n",
       "    </tr>\n",
       "    <tr>\n",
       "      <th>8582</th>\n",
       "      <td>1</td>\n",
       "      <td>4/6/16 14:16</td>\n",
       "      <td>4/6/16 14:20</td>\n",
       "      <td>1</td>\n",
       "      <td>-73.973015</td>\n",
       "      <td>40.760948</td>\n",
       "      <td>-73.976387</td>\n",
       "      <td>40.755604</td>\n",
       "      <td>N</td>\n",
       "      <td>207</td>\n",
       "    </tr>\n",
       "    <tr>\n",
       "      <th>8583</th>\n",
       "      <td>2</td>\n",
       "      <td>3/24/16 1:26</td>\n",
       "      <td>3/24/16 1:38</td>\n",
       "      <td>1</td>\n",
       "      <td>-73.985550</td>\n",
       "      <td>40.727257</td>\n",
       "      <td>-73.957039</td>\n",
       "      <td>40.712387</td>\n",
       "      <td>N</td>\n",
       "      <td>740</td>\n",
       "    </tr>\n",
       "    <tr>\n",
       "      <th>8584</th>\n",
       "      <td>1</td>\n",
       "      <td>2/23/16 16:38</td>\n",
       "      <td>2/23/16 16:48</td>\n",
       "      <td>1</td>\n",
       "      <td>-73.972038</td>\n",
       "      <td>40.750202</td>\n",
       "      <td>-73.998360</td>\n",
       "      <td>40.733360</td>\n",
       "      <td>N</td>\n",
       "      <td>605</td>\n",
       "    </tr>\n",
       "    <tr>\n",
       "      <th>8585</th>\n",
       "      <td>1</td>\n",
       "      <td>5/24/16 7:20</td>\n",
       "      <td>5/24/16 7:25</td>\n",
       "      <td>1</td>\n",
       "      <td>-73.993332</td>\n",
       "      <td>40.724342</td>\n",
       "      <td>-74.004250</td>\n",
       "      <td>40.707470</td>\n",
       "      <td>N</td>\n",
       "      <td>287</td>\n",
       "    </tr>\n",
       "    <tr>\n",
       "      <th>8586</th>\n",
       "      <td>2</td>\n",
       "      <td>3/15/16 22:00</td>\n",
       "      <td>3/15/16 22:19</td>\n",
       "      <td>1</td>\n",
       "      <td>-73.988060</td>\n",
       "      <td>40.759548</td>\n",
       "      <td>-74.005585</td>\n",
       "      <td>40.711521</td>\n",
       "      <td>N</td>\n",
       "      <td>1169</td>\n",
       "    </tr>\n",
       "  </tbody>\n",
       "</table>\n",
       "<p>1048575 rows × 10 columns</p>\n",
       "</div>"
      ],
      "text/plain": [
       "      vendor_id      pickup_datetime     dropoff_datetime  passenger_count  \\\n",
       "0             2  2016-03-14 17:24:55  2016-03-14 17:32:30                1   \n",
       "1             1  2016-06-12 00:43:35  2016-06-12 00:54:38                1   \n",
       "2             2  2016-01-19 11:35:24  2016-01-19 12:10:48                1   \n",
       "3             2  2016-04-06 19:32:31  2016-04-06 19:39:40                1   \n",
       "4             2  2016-03-26 13:30:55  2016-03-26 13:38:10                1   \n",
       "...         ...                  ...                  ...              ...   \n",
       "8582          1         4/6/16 14:16         4/6/16 14:20                1   \n",
       "8583          2         3/24/16 1:26         3/24/16 1:38                1   \n",
       "8584          1        2/23/16 16:38        2/23/16 16:48                1   \n",
       "8585          1         5/24/16 7:20         5/24/16 7:25                1   \n",
       "8586          2        3/15/16 22:00        3/15/16 22:19                1   \n",
       "\n",
       "      pickup_longitude  pickup_latitude  dropoff_longitude  dropoff_latitude  \\\n",
       "0           -73.982155        40.767937         -73.964630         40.765602   \n",
       "1           -73.980415        40.738564         -73.999481         40.731152   \n",
       "2           -73.979027        40.763939         -74.005333         40.710087   \n",
       "3           -74.010040        40.719971         -74.012268         40.706718   \n",
       "4           -73.973053        40.793209         -73.972923         40.782520   \n",
       "...                ...              ...                ...               ...   \n",
       "8582        -73.973015        40.760948         -73.976387         40.755604   \n",
       "8583        -73.985550        40.727257         -73.957039         40.712387   \n",
       "8584        -73.972038        40.750202         -73.998360         40.733360   \n",
       "8585        -73.993332        40.724342         -74.004250         40.707470   \n",
       "8586        -73.988060        40.759548         -74.005585         40.711521   \n",
       "\n",
       "     store_and_fwd_flag  trip_duration  \n",
       "0                     N            455  \n",
       "1                     N            663  \n",
       "2                     N           2124  \n",
       "3                     N            429  \n",
       "4                     N            435  \n",
       "...                 ...            ...  \n",
       "8582                  N            207  \n",
       "8583                  N            740  \n",
       "8584                  N            605  \n",
       "8585                  N            287  \n",
       "8586                  N           1169  \n",
       "\n",
       "[1048575 rows x 10 columns]"
      ]
     },
     "execution_count": 5,
     "metadata": {},
     "output_type": "execute_result"
    }
   ],
   "source": [
    "df = pd.concat([first_part, second_part]).drop_duplicates('id').drop('id', axis=1)\n",
    "df"
   ]
  },
  {
   "cell_type": "markdown",
   "id": "CkbmPhHEaYRP",
   "metadata": {
    "id": "CkbmPhHEaYRP"
   },
   "source": [
    " для удобства работы переведем сразу временные признаки в datetime тип"
   ]
  },
  {
   "cell_type": "code",
   "execution_count": null,
   "id": "MNyUKl_zaYRQ",
   "metadata": {
    "id": "MNyUKl_zaYRQ",
    "outputId": "bee3b2c9-2055-4c99-bb39-0ae68be00945"
   },
   "outputs": [
    {
     "data": {
      "text/html": [
       "<div>\n",
       "<style scoped>\n",
       "    .dataframe tbody tr th:only-of-type {\n",
       "        vertical-align: middle;\n",
       "    }\n",
       "\n",
       "    .dataframe tbody tr th {\n",
       "        vertical-align: top;\n",
       "    }\n",
       "\n",
       "    .dataframe thead th {\n",
       "        text-align: right;\n",
       "    }\n",
       "</style>\n",
       "<table border=\"1\" class=\"dataframe\">\n",
       "  <thead>\n",
       "    <tr style=\"text-align: right;\">\n",
       "      <th></th>\n",
       "      <th>vendor_id</th>\n",
       "      <th>pickup_datetime</th>\n",
       "      <th>dropoff_datetime</th>\n",
       "      <th>passenger_count</th>\n",
       "      <th>pickup_longitude</th>\n",
       "      <th>pickup_latitude</th>\n",
       "      <th>dropoff_longitude</th>\n",
       "      <th>dropoff_latitude</th>\n",
       "      <th>store_and_fwd_flag</th>\n",
       "      <th>trip_duration</th>\n",
       "    </tr>\n",
       "  </thead>\n",
       "  <tbody>\n",
       "    <tr>\n",
       "      <th>0</th>\n",
       "      <td>2</td>\n",
       "      <td>2016-03-14 17:24:55</td>\n",
       "      <td>2016-03-14 17:32:30</td>\n",
       "      <td>1</td>\n",
       "      <td>-73.982155</td>\n",
       "      <td>40.767937</td>\n",
       "      <td>-73.964630</td>\n",
       "      <td>40.765602</td>\n",
       "      <td>N</td>\n",
       "      <td>455</td>\n",
       "    </tr>\n",
       "    <tr>\n",
       "      <th>1</th>\n",
       "      <td>1</td>\n",
       "      <td>2016-06-12 00:43:35</td>\n",
       "      <td>2016-06-12 00:54:38</td>\n",
       "      <td>1</td>\n",
       "      <td>-73.980415</td>\n",
       "      <td>40.738564</td>\n",
       "      <td>-73.999481</td>\n",
       "      <td>40.731152</td>\n",
       "      <td>N</td>\n",
       "      <td>663</td>\n",
       "    </tr>\n",
       "    <tr>\n",
       "      <th>2</th>\n",
       "      <td>2</td>\n",
       "      <td>2016-01-19 11:35:24</td>\n",
       "      <td>2016-01-19 12:10:48</td>\n",
       "      <td>1</td>\n",
       "      <td>-73.979027</td>\n",
       "      <td>40.763939</td>\n",
       "      <td>-74.005333</td>\n",
       "      <td>40.710087</td>\n",
       "      <td>N</td>\n",
       "      <td>2124</td>\n",
       "    </tr>\n",
       "    <tr>\n",
       "      <th>3</th>\n",
       "      <td>2</td>\n",
       "      <td>2016-04-06 19:32:31</td>\n",
       "      <td>2016-04-06 19:39:40</td>\n",
       "      <td>1</td>\n",
       "      <td>-74.010040</td>\n",
       "      <td>40.719971</td>\n",
       "      <td>-74.012268</td>\n",
       "      <td>40.706718</td>\n",
       "      <td>N</td>\n",
       "      <td>429</td>\n",
       "    </tr>\n",
       "    <tr>\n",
       "      <th>4</th>\n",
       "      <td>2</td>\n",
       "      <td>2016-03-26 13:30:55</td>\n",
       "      <td>2016-03-26 13:38:10</td>\n",
       "      <td>1</td>\n",
       "      <td>-73.973053</td>\n",
       "      <td>40.793209</td>\n",
       "      <td>-73.972923</td>\n",
       "      <td>40.782520</td>\n",
       "      <td>N</td>\n",
       "      <td>435</td>\n",
       "    </tr>\n",
       "    <tr>\n",
       "      <th>...</th>\n",
       "      <td>...</td>\n",
       "      <td>...</td>\n",
       "      <td>...</td>\n",
       "      <td>...</td>\n",
       "      <td>...</td>\n",
       "      <td>...</td>\n",
       "      <td>...</td>\n",
       "      <td>...</td>\n",
       "      <td>...</td>\n",
       "      <td>...</td>\n",
       "    </tr>\n",
       "    <tr>\n",
       "      <th>8582</th>\n",
       "      <td>1</td>\n",
       "      <td>2016-04-06 14:16:00</td>\n",
       "      <td>2016-04-06 14:20:00</td>\n",
       "      <td>1</td>\n",
       "      <td>-73.973015</td>\n",
       "      <td>40.760948</td>\n",
       "      <td>-73.976387</td>\n",
       "      <td>40.755604</td>\n",
       "      <td>N</td>\n",
       "      <td>207</td>\n",
       "    </tr>\n",
       "    <tr>\n",
       "      <th>8583</th>\n",
       "      <td>2</td>\n",
       "      <td>2016-03-24 01:26:00</td>\n",
       "      <td>2016-03-24 01:38:00</td>\n",
       "      <td>1</td>\n",
       "      <td>-73.985550</td>\n",
       "      <td>40.727257</td>\n",
       "      <td>-73.957039</td>\n",
       "      <td>40.712387</td>\n",
       "      <td>N</td>\n",
       "      <td>740</td>\n",
       "    </tr>\n",
       "    <tr>\n",
       "      <th>8584</th>\n",
       "      <td>1</td>\n",
       "      <td>2016-02-23 16:38:00</td>\n",
       "      <td>2016-02-23 16:48:00</td>\n",
       "      <td>1</td>\n",
       "      <td>-73.972038</td>\n",
       "      <td>40.750202</td>\n",
       "      <td>-73.998360</td>\n",
       "      <td>40.733360</td>\n",
       "      <td>N</td>\n",
       "      <td>605</td>\n",
       "    </tr>\n",
       "    <tr>\n",
       "      <th>8585</th>\n",
       "      <td>1</td>\n",
       "      <td>2016-05-24 07:20:00</td>\n",
       "      <td>2016-05-24 07:25:00</td>\n",
       "      <td>1</td>\n",
       "      <td>-73.993332</td>\n",
       "      <td>40.724342</td>\n",
       "      <td>-74.004250</td>\n",
       "      <td>40.707470</td>\n",
       "      <td>N</td>\n",
       "      <td>287</td>\n",
       "    </tr>\n",
       "    <tr>\n",
       "      <th>8586</th>\n",
       "      <td>2</td>\n",
       "      <td>2016-03-15 22:00:00</td>\n",
       "      <td>2016-03-15 22:19:00</td>\n",
       "      <td>1</td>\n",
       "      <td>-73.988060</td>\n",
       "      <td>40.759548</td>\n",
       "      <td>-74.005585</td>\n",
       "      <td>40.711521</td>\n",
       "      <td>N</td>\n",
       "      <td>1169</td>\n",
       "    </tr>\n",
       "  </tbody>\n",
       "</table>\n",
       "<p>1048575 rows × 10 columns</p>\n",
       "</div>"
      ],
      "text/plain": [
       "      vendor_id     pickup_datetime    dropoff_datetime  passenger_count  \\\n",
       "0             2 2016-03-14 17:24:55 2016-03-14 17:32:30                1   \n",
       "1             1 2016-06-12 00:43:35 2016-06-12 00:54:38                1   \n",
       "2             2 2016-01-19 11:35:24 2016-01-19 12:10:48                1   \n",
       "3             2 2016-04-06 19:32:31 2016-04-06 19:39:40                1   \n",
       "4             2 2016-03-26 13:30:55 2016-03-26 13:38:10                1   \n",
       "...         ...                 ...                 ...              ...   \n",
       "8582          1 2016-04-06 14:16:00 2016-04-06 14:20:00                1   \n",
       "8583          2 2016-03-24 01:26:00 2016-03-24 01:38:00                1   \n",
       "8584          1 2016-02-23 16:38:00 2016-02-23 16:48:00                1   \n",
       "8585          1 2016-05-24 07:20:00 2016-05-24 07:25:00                1   \n",
       "8586          2 2016-03-15 22:00:00 2016-03-15 22:19:00                1   \n",
       "\n",
       "      pickup_longitude  pickup_latitude  dropoff_longitude  dropoff_latitude  \\\n",
       "0           -73.982155        40.767937         -73.964630         40.765602   \n",
       "1           -73.980415        40.738564         -73.999481         40.731152   \n",
       "2           -73.979027        40.763939         -74.005333         40.710087   \n",
       "3           -74.010040        40.719971         -74.012268         40.706718   \n",
       "4           -73.973053        40.793209         -73.972923         40.782520   \n",
       "...                ...              ...                ...               ...   \n",
       "8582        -73.973015        40.760948         -73.976387         40.755604   \n",
       "8583        -73.985550        40.727257         -73.957039         40.712387   \n",
       "8584        -73.972038        40.750202         -73.998360         40.733360   \n",
       "8585        -73.993332        40.724342         -74.004250         40.707470   \n",
       "8586        -73.988060        40.759548         -74.005585         40.711521   \n",
       "\n",
       "     store_and_fwd_flag  trip_duration  \n",
       "0                     N            455  \n",
       "1                     N            663  \n",
       "2                     N           2124  \n",
       "3                     N            429  \n",
       "4                     N            435  \n",
       "...                 ...            ...  \n",
       "8582                  N            207  \n",
       "8583                  N            740  \n",
       "8584                  N            605  \n",
       "8585                  N            287  \n",
       "8586                  N           1169  \n",
       "\n",
       "[1048575 rows x 10 columns]"
      ]
     },
     "execution_count": 6,
     "metadata": {},
     "output_type": "execute_result"
    }
   ],
   "source": [
    "df['pickup_datetime'] = pd.to_datetime(df['pickup_datetime'])\n",
    "df['dropoff_datetime'] = pd.to_datetime(df['dropoff_datetime'])\n",
    "df"
   ]
  },
  {
   "cell_type": "code",
   "execution_count": null,
   "id": "bbI3PvkGaYRR",
   "metadata": {
    "id": "bbI3PvkGaYRR",
    "outputId": "0d5b41e1-3147-4fb6-ff75-7fe739d11f5d"
   },
   "outputs": [
    {
     "name": "stdout",
     "output_type": "stream",
     "text": [
      "<class 'pandas.core.frame.DataFrame'>\n",
      "Int64Index: 1048575 entries, 0 to 8586\n",
      "Data columns (total 10 columns):\n",
      " #   Column              Non-Null Count    Dtype         \n",
      "---  ------              --------------    -----         \n",
      " 0   vendor_id           1048575 non-null  int64         \n",
      " 1   pickup_datetime     1048575 non-null  datetime64[ns]\n",
      " 2   dropoff_datetime    1048575 non-null  datetime64[ns]\n",
      " 3   passenger_count     1048575 non-null  int64         \n",
      " 4   pickup_longitude    1048575 non-null  float64       \n",
      " 5   pickup_latitude     1048575 non-null  float64       \n",
      " 6   dropoff_longitude   1048575 non-null  float64       \n",
      " 7   dropoff_latitude    1048575 non-null  float64       \n",
      " 8   store_and_fwd_flag  1048575 non-null  object        \n",
      " 9   trip_duration       1048575 non-null  int64         \n",
      "dtypes: datetime64[ns](2), float64(4), int64(3), object(1)\n",
      "memory usage: 88.0+ MB\n"
     ]
    }
   ],
   "source": [
    "df.info()"
   ]
  },
  {
   "cell_type": "markdown",
   "id": "r0d4MZ7qaYRS",
   "metadata": {
    "id": "r0d4MZ7qaYRS"
   },
   "source": [
    "* vendor_id - идентификатор провайдера;\n",
    "* pickup_datetime - дата и время включения счетчика;\n",
    "* dropoff_datetime - дата и время отключения счетчика;\n",
    "* passenger_count - число пассажиров в машине;\n",
    "* pickup_longitude - долгота точки, где был включен счетчик;\n",
    "* pickup_latitude - широта точки, где был включен счетчик;\n",
    "* dropoff_longitude - долгота точки, где был выключен счетчик;\n",
    "* dropoff_latitude - широта точки, где был выключен счетчик;\n",
    "* store_and_fwd_flag - этот флаг показывает была ли задержка в передачи данных о поездке вендору: Y - задержка передачи данных ведору была, N - задержки не было."
   ]
  },
  {
   "cell_type": "markdown",
   "id": "RL9U4OIgaYRS",
   "metadata": {
    "id": "RL9U4OIgaYRS"
   },
   "source": [
    "#  Форматирование данных"
   ]
  },
  {
   "cell_type": "markdown",
   "id": "2Ba--1G2aYRT",
   "metadata": {
    "id": "2Ba--1G2aYRT"
   },
   "source": [
    "## Осмотр данных на пропуски"
   ]
  },
  {
   "cell_type": "markdown",
   "id": "-ofMe6hCaYRT",
   "metadata": {
    "id": "-ofMe6hCaYRT"
   },
   "source": [
    "Проверим наши данные по перевозкам на пропуски"
   ]
  },
  {
   "cell_type": "code",
   "execution_count": null,
   "id": "lrSf4toOaYRU",
   "metadata": {
    "id": "lrSf4toOaYRU",
    "outputId": "63ef3648-cef0-4544-9891-e66f9ffa9981"
   },
   "outputs": [
    {
     "data": {
      "text/plain": [
       "<AxesSubplot:>"
      ]
     },
     "execution_count": 8,
     "metadata": {},
     "output_type": "execute_result"
    },
    {
     "data": {
      "image/png": "[encoded data removed]",
      "text/plain": [
       "<Figure size 432x288 with 2 Axes>"
      ]
     },
     "metadata": {
      "needs_background": "light"
     },
     "output_type": "display_data"
    }
   ],
   "source": [
    "sns.heatmap(df.isna())"
   ]
  },
  {
   "cell_type": "markdown",
   "id": "XbjTdGk7aYRU",
   "metadata": {
    "id": "XbjTdGk7aYRU"
   },
   "source": [
    "Как видно по графику, то пропуски не наблюдаются"
   ]
  },
  {
   "cell_type": "markdown",
   "id": "aVYjNTvAaYRV",
   "metadata": {
    "id": "aVYjNTvAaYRV"
   },
   "source": [
    "## Осмотр данных на выбросы"
   ]
  },
  {
   "cell_type": "code",
   "execution_count": null,
   "id": "LKAyUU2kaYRV",
   "metadata": {
    "id": "LKAyUU2kaYRV",
    "outputId": "34ab61da-53af-4d76-f6a8-8f1a949164c9"
   },
   "outputs": [
    {
     "name": "stdout",
     "output_type": "stream",
     "text": [
      "<class 'pandas.core.frame.DataFrame'>\n",
      "Int64Index: 1048575 entries, 0 to 8586\n",
      "Data columns (total 10 columns):\n",
      " #   Column              Non-Null Count    Dtype         \n",
      "---  ------              --------------    -----         \n",
      " 0   vendor_id           1048575 non-null  int64         \n",
      " 1   pickup_datetime     1048575 non-null  datetime64[ns]\n",
      " 2   dropoff_datetime    1048575 non-null  datetime64[ns]\n",
      " 3   passenger_count     1048575 non-null  int64         \n",
      " 4   pickup_longitude    1048575 non-null  float64       \n",
      " 5   pickup_latitude     1048575 non-null  float64       \n",
      " 6   dropoff_longitude   1048575 non-null  float64       \n",
      " 7   dropoff_latitude    1048575 non-null  float64       \n",
      " 8   store_and_fwd_flag  1048575 non-null  object        \n",
      " 9   trip_duration       1048575 non-null  int64         \n",
      "dtypes: datetime64[ns](2), float64(4), int64(3), object(1)\n",
      "memory usage: 88.0+ MB\n"
     ]
    }
   ],
   "source": [
    "df.info()"
   ]
  },
  {
   "cell_type": "markdown",
   "id": "_Mj3yZ3waYRW",
   "metadata": {
    "id": "_Mj3yZ3waYRW"
   },
   "source": [
    " после просмотра инфо видно, что все данные в нужных форматав, поэтому осмотр выбросов будет произведен командой describe"
   ]
  },
  {
   "cell_type": "code",
   "execution_count": null,
   "id": "jSKqUWbiaYRX",
   "metadata": {
    "id": "jSKqUWbiaYRX",
    "outputId": "9ad54e9a-386d-4630-8762-1d9678867b0d"
   },
   "outputs": [
    {
     "data": {
      "text/html": [
       "<div>\n",
       "<style scoped>\n",
       "    .dataframe tbody tr th:only-of-type {\n",
       "        vertical-align: middle;\n",
       "    }\n",
       "\n",
       "    .dataframe tbody tr th {\n",
       "        vertical-align: top;\n",
       "    }\n",
       "\n",
       "    .dataframe thead th {\n",
       "        text-align: right;\n",
       "    }\n",
       "</style>\n",
       "<table border=\"1\" class=\"dataframe\">\n",
       "  <thead>\n",
       "    <tr style=\"text-align: right;\">\n",
       "      <th></th>\n",
       "      <th>vendor_id</th>\n",
       "      <th>passenger_count</th>\n",
       "      <th>pickup_longitude</th>\n",
       "      <th>pickup_latitude</th>\n",
       "      <th>dropoff_longitude</th>\n",
       "      <th>dropoff_latitude</th>\n",
       "      <th>trip_duration</th>\n",
       "    </tr>\n",
       "  </thead>\n",
       "  <tbody>\n",
       "    <tr>\n",
       "      <th>count</th>\n",
       "      <td>1.048575e+06</td>\n",
       "      <td>1.048575e+06</td>\n",
       "      <td>1.048575e+06</td>\n",
       "      <td>1.048575e+06</td>\n",
       "      <td>1.048575e+06</td>\n",
       "      <td>1.048575e+06</td>\n",
       "      <td>1.048575e+06</td>\n",
       "    </tr>\n",
       "    <tr>\n",
       "      <th>mean</th>\n",
       "      <td>1.534503e+00</td>\n",
       "      <td>1.664382e+00</td>\n",
       "      <td>-7.397342e+01</td>\n",
       "      <td>4.075094e+01</td>\n",
       "      <td>-7.397336e+01</td>\n",
       "      <td>4.075183e+01</td>\n",
       "      <td>9.621448e+02</td>\n",
       "    </tr>\n",
       "    <tr>\n",
       "      <th>std</th>\n",
       "      <td>4.988084e-01</td>\n",
       "      <td>1.314261e+00</td>\n",
       "      <td>4.280165e-02</td>\n",
       "      <td>3.381389e-02</td>\n",
       "      <td>4.274282e-02</td>\n",
       "      <td>3.645002e-02</td>\n",
       "      <td>5.853002e+03</td>\n",
       "    </tr>\n",
       "    <tr>\n",
       "      <th>min</th>\n",
       "      <td>1.000000e+00</td>\n",
       "      <td>0.000000e+00</td>\n",
       "      <td>-7.854740e+01</td>\n",
       "      <td>3.435970e+01</td>\n",
       "      <td>-7.981798e+01</td>\n",
       "      <td>3.218114e+01</td>\n",
       "      <td>1.000000e+00</td>\n",
       "    </tr>\n",
       "    <tr>\n",
       "      <th>25%</th>\n",
       "      <td>1.000000e+00</td>\n",
       "      <td>1.000000e+00</td>\n",
       "      <td>-7.399186e+01</td>\n",
       "      <td>4.073738e+01</td>\n",
       "      <td>-7.399131e+01</td>\n",
       "      <td>4.073594e+01</td>\n",
       "      <td>3.970000e+02</td>\n",
       "    </tr>\n",
       "    <tr>\n",
       "      <th>50%</th>\n",
       "      <td>2.000000e+00</td>\n",
       "      <td>1.000000e+00</td>\n",
       "      <td>-7.398174e+01</td>\n",
       "      <td>4.075415e+01</td>\n",
       "      <td>-7.397973e+01</td>\n",
       "      <td>4.075455e+01</td>\n",
       "      <td>6.620000e+02</td>\n",
       "    </tr>\n",
       "    <tr>\n",
       "      <th>75%</th>\n",
       "      <td>2.000000e+00</td>\n",
       "      <td>2.000000e+00</td>\n",
       "      <td>-7.396731e+01</td>\n",
       "      <td>4.076836e+01</td>\n",
       "      <td>-7.396301e+01</td>\n",
       "      <td>4.076984e+01</td>\n",
       "      <td>1.075000e+03</td>\n",
       "    </tr>\n",
       "    <tr>\n",
       "      <th>max</th>\n",
       "      <td>2.000000e+00</td>\n",
       "      <td>9.000000e+00</td>\n",
       "      <td>-6.133553e+01</td>\n",
       "      <td>5.188108e+01</td>\n",
       "      <td>-6.133553e+01</td>\n",
       "      <td>4.391176e+01</td>\n",
       "      <td>3.526282e+06</td>\n",
       "    </tr>\n",
       "  </tbody>\n",
       "</table>\n",
       "</div>"
      ],
      "text/plain": [
       "          vendor_id  passenger_count  pickup_longitude  pickup_latitude  \\\n",
       "count  1.048575e+06     1.048575e+06      1.048575e+06     1.048575e+06   \n",
       "mean   1.534503e+00     1.664382e+00     -7.397342e+01     4.075094e+01   \n",
       "std    4.988084e-01     1.314261e+00      4.280165e-02     3.381389e-02   \n",
       "min    1.000000e+00     0.000000e+00     -7.854740e+01     3.435970e+01   \n",
       "25%    1.000000e+00     1.000000e+00     -7.399186e+01     4.073738e+01   \n",
       "50%    2.000000e+00     1.000000e+00     -7.398174e+01     4.075415e+01   \n",
       "75%    2.000000e+00     2.000000e+00     -7.396731e+01     4.076836e+01   \n",
       "max    2.000000e+00     9.000000e+00     -6.133553e+01     5.188108e+01   \n",
       "\n",
       "       dropoff_longitude  dropoff_latitude  trip_duration  \n",
       "count       1.048575e+06      1.048575e+06   1.048575e+06  \n",
       "mean       -7.397336e+01      4.075183e+01   9.621448e+02  \n",
       "std         4.274282e-02      3.645002e-02   5.853002e+03  \n",
       "min        -7.981798e+01      3.218114e+01   1.000000e+00  \n",
       "25%        -7.399131e+01      4.073594e+01   3.970000e+02  \n",
       "50%        -7.397973e+01      4.075455e+01   6.620000e+02  \n",
       "75%        -7.396301e+01      4.076984e+01   1.075000e+03  \n",
       "max        -6.133553e+01      4.391176e+01   3.526282e+06  "
      ]
     },
     "execution_count": 10,
     "metadata": {},
     "output_type": "execute_result"
    }
   ],
   "source": [
    "df.describe()"
   ]
  },
  {
   "cell_type": "markdown",
   "id": "UyInCWoiaYRY",
   "metadata": {
    "id": "UyInCWoiaYRY"
   },
   "source": [
    "По descibe наблюдается сильный разброс в длительности поездки, но время .возможно указано в секундах, если это так, то переведем его в минуты и еще раз посмотрим на describe"
   ]
  },
  {
   "cell_type": "code",
   "execution_count": null,
   "id": "1w-pg498aYRY",
   "metadata": {
    "id": "1w-pg498aYRY",
    "outputId": "b379f639-bd7a-4def-ce62-ffb0335f8cf8"
   },
   "outputs": [
    {
     "data": {
      "text/html": [
       "<div>\n",
       "<style scoped>\n",
       "    .dataframe tbody tr th:only-of-type {\n",
       "        vertical-align: middle;\n",
       "    }\n",
       "\n",
       "    .dataframe tbody tr th {\n",
       "        vertical-align: top;\n",
       "    }\n",
       "\n",
       "    .dataframe thead th {\n",
       "        text-align: right;\n",
       "    }\n",
       "</style>\n",
       "<table border=\"1\" class=\"dataframe\">\n",
       "  <thead>\n",
       "    <tr style=\"text-align: right;\">\n",
       "      <th></th>\n",
       "      <th>vendor_id</th>\n",
       "      <th>pickup_datetime</th>\n",
       "      <th>dropoff_datetime</th>\n",
       "      <th>passenger_count</th>\n",
       "      <th>pickup_longitude</th>\n",
       "      <th>pickup_latitude</th>\n",
       "      <th>dropoff_longitude</th>\n",
       "      <th>dropoff_latitude</th>\n",
       "      <th>store_and_fwd_flag</th>\n",
       "      <th>trip_duration</th>\n",
       "    </tr>\n",
       "  </thead>\n",
       "  <tbody>\n",
       "    <tr>\n",
       "      <th>0</th>\n",
       "      <td>2</td>\n",
       "      <td>2016-03-14 17:24:55</td>\n",
       "      <td>2016-03-14 17:32:30</td>\n",
       "      <td>1</td>\n",
       "      <td>-73.982155</td>\n",
       "      <td>40.767937</td>\n",
       "      <td>-73.964630</td>\n",
       "      <td>40.765602</td>\n",
       "      <td>N</td>\n",
       "      <td>455</td>\n",
       "    </tr>\n",
       "    <tr>\n",
       "      <th>1</th>\n",
       "      <td>1</td>\n",
       "      <td>2016-06-12 00:43:35</td>\n",
       "      <td>2016-06-12 00:54:38</td>\n",
       "      <td>1</td>\n",
       "      <td>-73.980415</td>\n",
       "      <td>40.738564</td>\n",
       "      <td>-73.999481</td>\n",
       "      <td>40.731152</td>\n",
       "      <td>N</td>\n",
       "      <td>663</td>\n",
       "    </tr>\n",
       "    <tr>\n",
       "      <th>2</th>\n",
       "      <td>2</td>\n",
       "      <td>2016-01-19 11:35:24</td>\n",
       "      <td>2016-01-19 12:10:48</td>\n",
       "      <td>1</td>\n",
       "      <td>-73.979027</td>\n",
       "      <td>40.763939</td>\n",
       "      <td>-74.005333</td>\n",
       "      <td>40.710087</td>\n",
       "      <td>N</td>\n",
       "      <td>2124</td>\n",
       "    </tr>\n",
       "    <tr>\n",
       "      <th>3</th>\n",
       "      <td>2</td>\n",
       "      <td>2016-04-06 19:32:31</td>\n",
       "      <td>2016-04-06 19:39:40</td>\n",
       "      <td>1</td>\n",
       "      <td>-74.010040</td>\n",
       "      <td>40.719971</td>\n",
       "      <td>-74.012268</td>\n",
       "      <td>40.706718</td>\n",
       "      <td>N</td>\n",
       "      <td>429</td>\n",
       "    </tr>\n",
       "    <tr>\n",
       "      <th>4</th>\n",
       "      <td>2</td>\n",
       "      <td>2016-03-26 13:30:55</td>\n",
       "      <td>2016-03-26 13:38:10</td>\n",
       "      <td>1</td>\n",
       "      <td>-73.973053</td>\n",
       "      <td>40.793209</td>\n",
       "      <td>-73.972923</td>\n",
       "      <td>40.782520</td>\n",
       "      <td>N</td>\n",
       "      <td>435</td>\n",
       "    </tr>\n",
       "  </tbody>\n",
       "</table>\n",
       "</div>"
      ],
      "text/plain": [
       "   vendor_id     pickup_datetime    dropoff_datetime  passenger_count  \\\n",
       "0          2 2016-03-14 17:24:55 2016-03-14 17:32:30                1   \n",
       "1          1 2016-06-12 00:43:35 2016-06-12 00:54:38                1   \n",
       "2          2 2016-01-19 11:35:24 2016-01-19 12:10:48                1   \n",
       "3          2 2016-04-06 19:32:31 2016-04-06 19:39:40                1   \n",
       "4          2 2016-03-26 13:30:55 2016-03-26 13:38:10                1   \n",
       "\n",
       "   pickup_longitude  pickup_latitude  dropoff_longitude  dropoff_latitude  \\\n",
       "0        -73.982155        40.767937         -73.964630         40.765602   \n",
       "1        -73.980415        40.738564         -73.999481         40.731152   \n",
       "2        -73.979027        40.763939         -74.005333         40.710087   \n",
       "3        -74.010040        40.719971         -74.012268         40.706718   \n",
       "4        -73.973053        40.793209         -73.972923         40.782520   \n",
       "\n",
       "  store_and_fwd_flag  trip_duration  \n",
       "0                  N            455  \n",
       "1                  N            663  \n",
       "2                  N           2124  \n",
       "3                  N            429  \n",
       "4                  N            435  "
      ]
     },
     "execution_count": 11,
     "metadata": {},
     "output_type": "execute_result"
    }
   ],
   "source": [
    "df.head()"
   ]
  },
  {
   "cell_type": "markdown",
   "id": "HSBBCZH6aYRZ",
   "metadata": {
    "id": "HSBBCZH6aYRZ"
   },
   "source": [
    "Действительно длтельность указана в секунда, потому что разница по времени в первой строчке равна 7 минут и 35 секунд, если перевести это в секунды то тоже получится 455. Поэтому переведем секунды в минуты"
   ]
  },
  {
   "cell_type": "code",
   "execution_count": null,
   "id": "9bl0IgrDaYRZ",
   "metadata": {
    "id": "9bl0IgrDaYRZ"
   },
   "outputs": [],
   "source": [
    "# перевод секунд в минуты \n",
    "df.trip_duration = df.trip_duration.apply(lambda x: x/60)"
   ]
  },
  {
   "cell_type": "markdown",
   "id": "2g90P2ijaYRa",
   "metadata": {
    "id": "2g90P2ijaYRa"
   },
   "source": [
    "Теперь еще раз осмотрим на выбросы"
   ]
  },
  {
   "cell_type": "code",
   "execution_count": null,
   "id": "7o2P_SmxaYRa",
   "metadata": {
    "id": "7o2P_SmxaYRa",
    "outputId": "cd082c73-1f9b-4073-8dd7-ad1af21f94d0"
   },
   "outputs": [
    {
     "data": {
      "text/html": [
       "<div>\n",
       "<style scoped>\n",
       "    .dataframe tbody tr th:only-of-type {\n",
       "        vertical-align: middle;\n",
       "    }\n",
       "\n",
       "    .dataframe tbody tr th {\n",
       "        vertical-align: top;\n",
       "    }\n",
       "\n",
       "    .dataframe thead th {\n",
       "        text-align: right;\n",
       "    }\n",
       "</style>\n",
       "<table border=\"1\" class=\"dataframe\">\n",
       "  <thead>\n",
       "    <tr style=\"text-align: right;\">\n",
       "      <th></th>\n",
       "      <th>vendor_id</th>\n",
       "      <th>passenger_count</th>\n",
       "      <th>pickup_longitude</th>\n",
       "      <th>pickup_latitude</th>\n",
       "      <th>dropoff_longitude</th>\n",
       "      <th>dropoff_latitude</th>\n",
       "      <th>trip_duration</th>\n",
       "    </tr>\n",
       "  </thead>\n",
       "  <tbody>\n",
       "    <tr>\n",
       "      <th>count</th>\n",
       "      <td>1.048575e+06</td>\n",
       "      <td>1.048575e+06</td>\n",
       "      <td>1.048575e+06</td>\n",
       "      <td>1.048575e+06</td>\n",
       "      <td>1.048575e+06</td>\n",
       "      <td>1.048575e+06</td>\n",
       "      <td>1.048575e+06</td>\n",
       "    </tr>\n",
       "    <tr>\n",
       "      <th>mean</th>\n",
       "      <td>1.534503e+00</td>\n",
       "      <td>1.664382e+00</td>\n",
       "      <td>-7.397342e+01</td>\n",
       "      <td>4.075094e+01</td>\n",
       "      <td>-7.397336e+01</td>\n",
       "      <td>4.075183e+01</td>\n",
       "      <td>1.603575e+01</td>\n",
       "    </tr>\n",
       "    <tr>\n",
       "      <th>std</th>\n",
       "      <td>4.988084e-01</td>\n",
       "      <td>1.314261e+00</td>\n",
       "      <td>4.280165e-02</td>\n",
       "      <td>3.381389e-02</td>\n",
       "      <td>4.274282e-02</td>\n",
       "      <td>3.645002e-02</td>\n",
       "      <td>9.755004e+01</td>\n",
       "    </tr>\n",
       "    <tr>\n",
       "      <th>min</th>\n",
       "      <td>1.000000e+00</td>\n",
       "      <td>0.000000e+00</td>\n",
       "      <td>-7.854740e+01</td>\n",
       "      <td>3.435970e+01</td>\n",
       "      <td>-7.981798e+01</td>\n",
       "      <td>3.218114e+01</td>\n",
       "      <td>1.666667e-02</td>\n",
       "    </tr>\n",
       "    <tr>\n",
       "      <th>25%</th>\n",
       "      <td>1.000000e+00</td>\n",
       "      <td>1.000000e+00</td>\n",
       "      <td>-7.399186e+01</td>\n",
       "      <td>4.073738e+01</td>\n",
       "      <td>-7.399131e+01</td>\n",
       "      <td>4.073594e+01</td>\n",
       "      <td>6.616667e+00</td>\n",
       "    </tr>\n",
       "    <tr>\n",
       "      <th>50%</th>\n",
       "      <td>2.000000e+00</td>\n",
       "      <td>1.000000e+00</td>\n",
       "      <td>-7.398174e+01</td>\n",
       "      <td>4.075415e+01</td>\n",
       "      <td>-7.397973e+01</td>\n",
       "      <td>4.075455e+01</td>\n",
       "      <td>1.103333e+01</td>\n",
       "    </tr>\n",
       "    <tr>\n",
       "      <th>75%</th>\n",
       "      <td>2.000000e+00</td>\n",
       "      <td>2.000000e+00</td>\n",
       "      <td>-7.396731e+01</td>\n",
       "      <td>4.076836e+01</td>\n",
       "      <td>-7.396301e+01</td>\n",
       "      <td>4.076984e+01</td>\n",
       "      <td>1.791667e+01</td>\n",
       "    </tr>\n",
       "    <tr>\n",
       "      <th>max</th>\n",
       "      <td>2.000000e+00</td>\n",
       "      <td>9.000000e+00</td>\n",
       "      <td>-6.133553e+01</td>\n",
       "      <td>5.188108e+01</td>\n",
       "      <td>-6.133553e+01</td>\n",
       "      <td>4.391176e+01</td>\n",
       "      <td>5.877137e+04</td>\n",
       "    </tr>\n",
       "  </tbody>\n",
       "</table>\n",
       "</div>"
      ],
      "text/plain": [
       "          vendor_id  passenger_count  pickup_longitude  pickup_latitude  \\\n",
       "count  1.048575e+06     1.048575e+06      1.048575e+06     1.048575e+06   \n",
       "mean   1.534503e+00     1.664382e+00     -7.397342e+01     4.075094e+01   \n",
       "std    4.988084e-01     1.314261e+00      4.280165e-02     3.381389e-02   \n",
       "min    1.000000e+00     0.000000e+00     -7.854740e+01     3.435970e+01   \n",
       "25%    1.000000e+00     1.000000e+00     -7.399186e+01     4.073738e+01   \n",
       "50%    2.000000e+00     1.000000e+00     -7.398174e+01     4.075415e+01   \n",
       "75%    2.000000e+00     2.000000e+00     -7.396731e+01     4.076836e+01   \n",
       "max    2.000000e+00     9.000000e+00     -6.133553e+01     5.188108e+01   \n",
       "\n",
       "       dropoff_longitude  dropoff_latitude  trip_duration  \n",
       "count       1.048575e+06      1.048575e+06   1.048575e+06  \n",
       "mean       -7.397336e+01      4.075183e+01   1.603575e+01  \n",
       "std         4.274282e-02      3.645002e-02   9.755004e+01  \n",
       "min        -7.981798e+01      3.218114e+01   1.666667e-02  \n",
       "25%        -7.399131e+01      4.073594e+01   6.616667e+00  \n",
       "50%        -7.397973e+01      4.075455e+01   1.103333e+01  \n",
       "75%        -7.396301e+01      4.076984e+01   1.791667e+01  \n",
       "max        -6.133553e+01      4.391176e+01   5.877137e+04  "
      ]
     },
     "execution_count": 13,
     "metadata": {},
     "output_type": "execute_result"
    }
   ],
   "source": [
    "df.describe()"
   ]
  },
  {
   "cell_type": "markdown",
   "id": "ImJkTdnraYRa",
   "metadata": {
    "id": "ImJkTdnraYRa"
   },
   "source": [
    "Да, выбросы есть в длительности, для проверки построим боксплот"
   ]
  },
  {
   "cell_type": "code",
   "execution_count": null,
   "id": "7bc5IAjPaYRb",
   "metadata": {
    "id": "7bc5IAjPaYRb",
    "outputId": "eb2b0638-f094-460c-8140-3865e079884a"
   },
   "outputs": [
    {
     "name": "stderr",
     "output_type": "stream",
     "text": [
      "C:\\Users\\nevge\\anaconda3\\lib\\site-packages\\seaborn\\_decorators.py:36: FutureWarning: Pass the following variable as a keyword arg: x. From version 0.12, the only valid positional argument will be `data`, and passing other arguments without an explicit keyword will result in an error or misinterpretation.\n",
      "  warnings.warn(\n"
     ]
    },
    {
     "data": {
      "text/plain": [
       "<AxesSubplot:xlabel='trip_duration'>"
      ]
     },
     "execution_count": 14,
     "metadata": {},
     "output_type": "execute_result"
    },
    {
     "data": {
      "image/png": "[encoded data removed]",
      "text/plain": [
       "<Figure size 432x288 with 1 Axes>"
      ]
     },
     "metadata": {
      "needs_background": "light"
     },
     "output_type": "display_data"
    }
   ],
   "source": [
    "sns.boxplot(df['trip_duration'])"
   ]
  },
  {
   "cell_type": "markdown",
   "id": "4cep5KNNaYRb",
   "metadata": {
    "id": "4cep5KNNaYRb"
   },
   "source": [
    "Попробуем циклом взять квантили и построить боксплоты и посмотреть где выбросов не станет"
   ]
  },
  {
   "cell_type": "markdown",
   "id": "V12ZXr4IaYRb",
   "metadata": {
    "id": "V12ZXr4IaYRb"
   },
   "source": [
    "### Очистка выбросов"
   ]
  },
  {
   "cell_type": "code",
   "execution_count": null,
   "id": "N0ctg-K8aYRc",
   "metadata": {
    "id": "N0ctg-K8aYRc",
    "outputId": "2a58ec5a-fdce-434b-b476-c09737fd5120"
   },
   "outputs": [
    {
     "name": "stderr",
     "output_type": "stream",
     "text": [
      "C:\\Users\\nevge\\anaconda3\\lib\\site-packages\\seaborn\\_decorators.py:36: FutureWarning: Pass the following variable as a keyword arg: x. From version 0.12, the only valid positional argument will be `data`, and passing other arguments without an explicit keyword will result in an error or misinterpretation.\n",
      "  warnings.warn(\n"
     ]
    },
    {
     "data": {
      "image/png": "[encoded data removed]",
      "text/plain": [
       "<Figure size 432x288 with 1 Axes>"
      ]
     },
     "metadata": {
      "needs_background": "light"
     },
     "output_type": "display_data"
    }
   ],
   "source": [
    "qunt = df['trip_duration'].quantile(0.92)\n",
    "df = df[df['trip_duration'] < qunt]\n",
    "sns.boxplot(df['trip_duration'])\n",
    "plt.show()"
   ]
  },
  {
   "cell_type": "markdown",
   "id": "m6AQncO0aYRc",
   "metadata": {
    "id": "m6AQncO0aYRc"
   },
   "source": [
    "при квантилии в 0.92 выбросы пропали, поэтому возьмем этот квантиль"
   ]
  },
  {
   "cell_type": "markdown",
   "id": "uD5kLL60aYRd",
   "metadata": {
    "id": "uD5kLL60aYRd"
   },
   "source": [
    "## Факторизация"
   ]
  },
  {
   "cell_type": "markdown",
   "id": "Bg0ps_giaYRd",
   "metadata": {
    "id": "Bg0ps_giaYRd"
   },
   "source": [
    "т.к. наш набор содержит строковый столбец, а модели умеют работать только с числами, то факторизуем такой столбец(т.е. поменяем значение N например на 0, а значение Y на 1)"
   ]
  },
  {
   "cell_type": "code",
   "execution_count": null,
   "id": "zX1QkI46aYRd",
   "metadata": {
    "id": "zX1QkI46aYRd",
    "outputId": "0b067863-9ad9-4b1b-bb90-93510549be31"
   },
   "outputs": [
    {
     "name": "stderr",
     "output_type": "stream",
     "text": [
      "<ipython-input-16-3cd77eb635e7>:1: SettingWithCopyWarning: \n",
      "A value is trying to be set on a copy of a slice from a DataFrame.\n",
      "Try using .loc[row_indexer,col_indexer] = value instead\n",
      "\n",
      "See the caveats in the documentation: https://pandas.pydata.org/pandas-docs/stable/user_guide/indexing.html#returning-a-view-versus-a-copy\n",
      "  df['store_and_fwd_flag'] = pd.factorize(df['store_and_fwd_flag'])[0]\n"
     ]
    }
   ],
   "source": [
    "df['store_and_fwd_flag'] = pd.factorize(df['store_and_fwd_flag'])[0]"
   ]
  },
  {
   "cell_type": "markdown",
   "id": "04Q_6rB9aYRd",
   "metadata": {
    "id": "04Q_6rB9aYRd"
   },
   "source": [
    "# Дополнение набора данных"
   ]
  },
  {
   "cell_type": "markdown",
   "id": "jSQgcWAtaYRd",
   "metadata": {
    "id": "jSQgcWAtaYRd"
   },
   "source": [
    "## Загрузка погодных данных"
   ]
  },
  {
   "cell_type": "code",
   "execution_count": null,
   "id": "B31ofbO4aYRd",
   "metadata": {
    "id": "B31ofbO4aYRd"
   },
   "outputs": [],
   "source": [
    "weather = pd.read_csv('data/weather.csv')"
   ]
  },
  {
   "cell_type": "markdown",
   "id": "O0BVZwkBaYRe",
   "metadata": {
    "id": "O0BVZwkBaYRe"
   },
   "source": [
    "## Форматирование погодных данных"
   ]
  },
  {
   "cell_type": "markdown",
   "id": "nVm9rTT3aYRe",
   "metadata": {
    "id": "nVm9rTT3aYRe"
   },
   "source": [
    "### Осмотр и обработка пропусков"
   ]
  },
  {
   "cell_type": "code",
   "execution_count": null,
   "id": "wCP75ruTaYRe",
   "metadata": {
    "id": "wCP75ruTaYRe",
    "outputId": "5a8d06a0-3eca-40eb-e41e-a450d24ced5c"
   },
   "outputs": [
    {
     "data": {
      "text/plain": [
       "date                   0\n",
       "maximum temperature    0\n",
       "minimum temperature    0\n",
       "average temperature    0\n",
       "precipitation          0\n",
       "snow fall              0\n",
       "snow depth             0\n",
       "dtype: int64"
      ]
     },
     "execution_count": 18,
     "metadata": {},
     "output_type": "execute_result"
    }
   ],
   "source": [
    "weather.isna().sum()"
   ]
  },
  {
   "cell_type": "markdown",
   "id": "WVyBB5KGaYRe",
   "metadata": {
    "id": "WVyBB5KGaYRe"
   },
   "source": [
    "Пропусков в погодных данных также нету"
   ]
  },
  {
   "cell_type": "markdown",
   "id": "TUqAXNmyaYRe",
   "metadata": {
    "id": "TUqAXNmyaYRe"
   },
   "source": [
    "###  Инфо о погодных данных"
   ]
  },
  {
   "cell_type": "code",
   "execution_count": null,
   "id": "IHvRwTaPaYRe",
   "metadata": {
    "id": "IHvRwTaPaYRe",
    "outputId": "edfa9097-7db3-4748-b173-3f98a67f1a22"
   },
   "outputs": [
    {
     "name": "stdout",
     "output_type": "stream",
     "text": [
      "<class 'pandas.core.frame.DataFrame'>\n",
      "RangeIndex: 366 entries, 0 to 365\n",
      "Data columns (total 7 columns):\n",
      " #   Column               Non-Null Count  Dtype  \n",
      "---  ------               --------------  -----  \n",
      " 0   date                 366 non-null    object \n",
      " 1   maximum temperature  366 non-null    int64  \n",
      " 2   minimum temperature  366 non-null    int64  \n",
      " 3   average temperature  366 non-null    float64\n",
      " 4   precipitation        366 non-null    object \n",
      " 5   snow fall            366 non-null    object \n",
      " 6   snow depth           366 non-null    object \n",
      "dtypes: float64(1), int64(2), object(4)\n",
      "memory usage: 20.1+ KB\n"
     ]
    }
   ],
   "source": [
    "weather.info()"
   ]
  },
  {
   "cell_type": "markdown",
   "id": "iViwPUDlaYRe",
   "metadata": {
    "id": "iViwPUDlaYRe"
   },
   "source": [
    "Наблюдается интересное. Три столбца(с 4 по 6 включительно) должны быть типа int или float, но они типа object, что показывает, что там есть значения не только исловые, посмотрим что это за значения и замених их например на 0"
   ]
  },
  {
   "cell_type": "code",
   "execution_count": null,
   "id": "lG7ZJRqwaYRe",
   "metadata": {
    "id": "lG7ZJRqwaYRe",
    "outputId": "1358635b-1b84-4938-9c25-b01cbab20688"
   },
   "outputs": [
    {
     "name": "stdout",
     "output_type": "stream",
     "text": [
      "['0.00' 'T' '1.80' '0.24' '0.05' '0.01' '2.31' '0.73' '0.53' '0.44' '1.01'\n",
      " '0.03' '0.30' '1.22' '0.02' '0.14' '0.11' '0.06' '0.29' '0.07' '0.04'\n",
      " '0.38' '0.16' '0.09' '0.47' '0.20' '0.61' '0.54' '0.25' '0.18' '1.65'\n",
      " '0.40' '0.91' '0.45' '0.22' '0.12' '0.83' '0' '0.49' '0.66' '0.08' '0.62'\n",
      " '0.35' '1' '1.09' '1.08' '0.15' '0.32' '0.82' '0.31' '0.5' '0.56' '0.68'\n",
      " '0.2' '0.4' '0.23' '0.55' '1.11' '1.41' '1.81' '2.2' '0.19' '0.39']\n",
      "----------\n",
      "['0.0' 'T' '0.4' '0.2' '27.3' '2.5' '0.1' '1.4' '0.5' '0' '2.8']\n",
      "----------\n",
      "['0' 'T' '6' '22' '19' '17' '9' '4' '2' '1']\n",
      "----------\n"
     ]
    }
   ],
   "source": [
    "for col in ['precipitation', 'snow fall', 'snow depth']:\n",
    "    print(weather[col].unique())\n",
    "    print('-' * 10)"
   ]
  },
  {
   "cell_type": "markdown",
   "id": "Y_NIYIMZaYRf",
   "metadata": {
    "id": "Y_NIYIMZaYRf"
   },
   "source": [
    "В данном случае у нас непонятное значение T, поэтому заменим его например на 0 и приведем наши данные в тип float"
   ]
  },
  {
   "cell_type": "code",
   "execution_count": null,
   "id": "4peSG5eiaYRf",
   "metadata": {
    "id": "4peSG5eiaYRf"
   },
   "outputs": [],
   "source": [
    "for col in ['precipitation', 'snow fall', 'snow depth']:\n",
    "    weather.loc[weather[col] == 'T', col] = 0\n",
    "    weather[col] = weather[col].astype(np.float64)"
   ]
  },
  {
   "cell_type": "markdown",
   "id": "CTfr55TWaYRf",
   "metadata": {
    "id": "CTfr55TWaYRf"
   },
   "source": [
    "### Осмотр на выбросы и обработка"
   ]
  },
  {
   "cell_type": "code",
   "execution_count": null,
   "id": "TXaevRkZaYRf",
   "metadata": {
    "id": "TXaevRkZaYRf",
    "outputId": "9a358239-5308-447b-83f5-da456eb21168"
   },
   "outputs": [
    {
     "data": {
      "text/html": [
       "<div>\n",
       "<style scoped>\n",
       "    .dataframe tbody tr th:only-of-type {\n",
       "        vertical-align: middle;\n",
       "    }\n",
       "\n",
       "    .dataframe tbody tr th {\n",
       "        vertical-align: top;\n",
       "    }\n",
       "\n",
       "    .dataframe thead th {\n",
       "        text-align: right;\n",
       "    }\n",
       "</style>\n",
       "<table border=\"1\" class=\"dataframe\">\n",
       "  <thead>\n",
       "    <tr style=\"text-align: right;\">\n",
       "      <th></th>\n",
       "      <th>maximum temperature</th>\n",
       "      <th>minimum temperature</th>\n",
       "      <th>average temperature</th>\n",
       "      <th>precipitation</th>\n",
       "      <th>snow fall</th>\n",
       "      <th>snow depth</th>\n",
       "    </tr>\n",
       "  </thead>\n",
       "  <tbody>\n",
       "    <tr>\n",
       "      <th>count</th>\n",
       "      <td>366.000000</td>\n",
       "      <td>366.000000</td>\n",
       "      <td>366.000000</td>\n",
       "      <td>366.000000</td>\n",
       "      <td>366.000000</td>\n",
       "      <td>366.000000</td>\n",
       "    </tr>\n",
       "    <tr>\n",
       "      <th>mean</th>\n",
       "      <td>64.625683</td>\n",
       "      <td>49.806011</td>\n",
       "      <td>57.215847</td>\n",
       "      <td>0.115219</td>\n",
       "      <td>0.098361</td>\n",
       "      <td>0.275956</td>\n",
       "    </tr>\n",
       "    <tr>\n",
       "      <th>std</th>\n",
       "      <td>18.041787</td>\n",
       "      <td>16.570747</td>\n",
       "      <td>17.124760</td>\n",
       "      <td>0.309682</td>\n",
       "      <td>1.441631</td>\n",
       "      <td>1.928253</td>\n",
       "    </tr>\n",
       "    <tr>\n",
       "      <th>min</th>\n",
       "      <td>15.000000</td>\n",
       "      <td>-1.000000</td>\n",
       "      <td>7.000000</td>\n",
       "      <td>0.000000</td>\n",
       "      <td>0.000000</td>\n",
       "      <td>0.000000</td>\n",
       "    </tr>\n",
       "    <tr>\n",
       "      <th>25%</th>\n",
       "      <td>50.000000</td>\n",
       "      <td>37.250000</td>\n",
       "      <td>44.000000</td>\n",
       "      <td>0.000000</td>\n",
       "      <td>0.000000</td>\n",
       "      <td>0.000000</td>\n",
       "    </tr>\n",
       "    <tr>\n",
       "      <th>50%</th>\n",
       "      <td>64.500000</td>\n",
       "      <td>48.000000</td>\n",
       "      <td>55.750000</td>\n",
       "      <td>0.000000</td>\n",
       "      <td>0.000000</td>\n",
       "      <td>0.000000</td>\n",
       "    </tr>\n",
       "    <tr>\n",
       "      <th>75%</th>\n",
       "      <td>81.000000</td>\n",
       "      <td>65.000000</td>\n",
       "      <td>73.500000</td>\n",
       "      <td>0.040000</td>\n",
       "      <td>0.000000</td>\n",
       "      <td>0.000000</td>\n",
       "    </tr>\n",
       "    <tr>\n",
       "      <th>max</th>\n",
       "      <td>96.000000</td>\n",
       "      <td>81.000000</td>\n",
       "      <td>88.500000</td>\n",
       "      <td>2.310000</td>\n",
       "      <td>27.300000</td>\n",
       "      <td>22.000000</td>\n",
       "    </tr>\n",
       "  </tbody>\n",
       "</table>\n",
       "</div>"
      ],
      "text/plain": [
       "       maximum temperature  minimum temperature  average temperature  \\\n",
       "count           366.000000           366.000000           366.000000   \n",
       "mean             64.625683            49.806011            57.215847   \n",
       "std              18.041787            16.570747            17.124760   \n",
       "min              15.000000            -1.000000             7.000000   \n",
       "25%              50.000000            37.250000            44.000000   \n",
       "50%              64.500000            48.000000            55.750000   \n",
       "75%              81.000000            65.000000            73.500000   \n",
       "max              96.000000            81.000000            88.500000   \n",
       "\n",
       "       precipitation   snow fall  snow depth  \n",
       "count     366.000000  366.000000  366.000000  \n",
       "mean        0.115219    0.098361    0.275956  \n",
       "std         0.309682    1.441631    1.928253  \n",
       "min         0.000000    0.000000    0.000000  \n",
       "25%         0.000000    0.000000    0.000000  \n",
       "50%         0.000000    0.000000    0.000000  \n",
       "75%         0.040000    0.000000    0.000000  \n",
       "max         2.310000   27.300000   22.000000  "
      ]
     },
     "execution_count": 22,
     "metadata": {},
     "output_type": "execute_result"
    }
   ],
   "source": [
    "weather.describe()"
   ]
  },
  {
   "cell_type": "markdown",
   "id": "K-SoNV59aYRf",
   "metadata": {
    "id": "K-SoNV59aYRf"
   },
   "source": [
    "Видно, что а нас есть температура свыше 80 градусов. Такого в цельсиях быть не может на улице, значит температура указана в фаренгейтах. Поэтому переведем ее и посмотрим на descibe еще раз"
   ]
  },
  {
   "cell_type": "code",
   "execution_count": null,
   "id": "EYrFLppAaYRf",
   "metadata": {
    "id": "EYrFLppAaYRf"
   },
   "outputs": [],
   "source": [
    "for temp in ['maximum temperature', 'minimum temperature','average temperature']:\n",
    "    weather[temp] = weather[temp].apply(lambda x: (x-32)/1.8)"
   ]
  },
  {
   "cell_type": "code",
   "execution_count": null,
   "id": "bNT-YVPsaYRg",
   "metadata": {
    "id": "bNT-YVPsaYRg",
    "outputId": "772d3599-e08e-4c43-fad9-5a726c008c52"
   },
   "outputs": [
    {
     "data": {
      "text/html": [
       "<div>\n",
       "<style scoped>\n",
       "    .dataframe tbody tr th:only-of-type {\n",
       "        vertical-align: middle;\n",
       "    }\n",
       "\n",
       "    .dataframe tbody tr th {\n",
       "        vertical-align: top;\n",
       "    }\n",
       "\n",
       "    .dataframe thead th {\n",
       "        text-align: right;\n",
       "    }\n",
       "</style>\n",
       "<table border=\"1\" class=\"dataframe\">\n",
       "  <thead>\n",
       "    <tr style=\"text-align: right;\">\n",
       "      <th></th>\n",
       "      <th>maximum temperature</th>\n",
       "      <th>minimum temperature</th>\n",
       "      <th>average temperature</th>\n",
       "      <th>precipitation</th>\n",
       "      <th>snow fall</th>\n",
       "      <th>snow depth</th>\n",
       "    </tr>\n",
       "  </thead>\n",
       "  <tbody>\n",
       "    <tr>\n",
       "      <th>count</th>\n",
       "      <td>366.000000</td>\n",
       "      <td>366.000000</td>\n",
       "      <td>366.000000</td>\n",
       "      <td>366.000000</td>\n",
       "      <td>366.000000</td>\n",
       "      <td>366.000000</td>\n",
       "    </tr>\n",
       "    <tr>\n",
       "      <th>mean</th>\n",
       "      <td>18.125379</td>\n",
       "      <td>9.892228</td>\n",
       "      <td>14.008804</td>\n",
       "      <td>0.115219</td>\n",
       "      <td>0.098361</td>\n",
       "      <td>0.275956</td>\n",
       "    </tr>\n",
       "    <tr>\n",
       "      <th>std</th>\n",
       "      <td>10.023215</td>\n",
       "      <td>9.205971</td>\n",
       "      <td>9.513755</td>\n",
       "      <td>0.309682</td>\n",
       "      <td>1.441631</td>\n",
       "      <td>1.928253</td>\n",
       "    </tr>\n",
       "    <tr>\n",
       "      <th>min</th>\n",
       "      <td>-9.444444</td>\n",
       "      <td>-18.333333</td>\n",
       "      <td>-13.888889</td>\n",
       "      <td>0.000000</td>\n",
       "      <td>0.000000</td>\n",
       "      <td>0.000000</td>\n",
       "    </tr>\n",
       "    <tr>\n",
       "      <th>25%</th>\n",
       "      <td>10.000000</td>\n",
       "      <td>2.916667</td>\n",
       "      <td>6.666667</td>\n",
       "      <td>0.000000</td>\n",
       "      <td>0.000000</td>\n",
       "      <td>0.000000</td>\n",
       "    </tr>\n",
       "    <tr>\n",
       "      <th>50%</th>\n",
       "      <td>18.055556</td>\n",
       "      <td>8.888889</td>\n",
       "      <td>13.194444</td>\n",
       "      <td>0.000000</td>\n",
       "      <td>0.000000</td>\n",
       "      <td>0.000000</td>\n",
       "    </tr>\n",
       "    <tr>\n",
       "      <th>75%</th>\n",
       "      <td>27.222222</td>\n",
       "      <td>18.333333</td>\n",
       "      <td>23.055556</td>\n",
       "      <td>0.040000</td>\n",
       "      <td>0.000000</td>\n",
       "      <td>0.000000</td>\n",
       "    </tr>\n",
       "    <tr>\n",
       "      <th>max</th>\n",
       "      <td>35.555556</td>\n",
       "      <td>27.222222</td>\n",
       "      <td>31.388889</td>\n",
       "      <td>2.310000</td>\n",
       "      <td>27.300000</td>\n",
       "      <td>22.000000</td>\n",
       "    </tr>\n",
       "  </tbody>\n",
       "</table>\n",
       "</div>"
      ],
      "text/plain": [
       "       maximum temperature  minimum temperature  average temperature  \\\n",
       "count           366.000000           366.000000           366.000000   \n",
       "mean             18.125379             9.892228            14.008804   \n",
       "std              10.023215             9.205971             9.513755   \n",
       "min              -9.444444           -18.333333           -13.888889   \n",
       "25%              10.000000             2.916667             6.666667   \n",
       "50%              18.055556             8.888889            13.194444   \n",
       "75%              27.222222            18.333333            23.055556   \n",
       "max              35.555556            27.222222            31.388889   \n",
       "\n",
       "       precipitation   snow fall  snow depth  \n",
       "count     366.000000  366.000000  366.000000  \n",
       "mean        0.115219    0.098361    0.275956  \n",
       "std         0.309682    1.441631    1.928253  \n",
       "min         0.000000    0.000000    0.000000  \n",
       "25%         0.000000    0.000000    0.000000  \n",
       "50%         0.000000    0.000000    0.000000  \n",
       "75%         0.040000    0.000000    0.000000  \n",
       "max         2.310000   27.300000   22.000000  "
      ]
     },
     "execution_count": 24,
     "metadata": {},
     "output_type": "execute_result"
    }
   ],
   "source": [
    "weather.describe()"
   ]
  },
  {
   "cell_type": "markdown",
   "id": "eGmfW0SYaYRg",
   "metadata": {
    "id": "eGmfW0SYaYRg"
   },
   "source": [
    " Теперь все температуры в рамках допустимого и поэтому выбросов не наблюдается"
   ]
  },
  {
   "cell_type": "markdown",
   "id": "rJGLScUOaYRg",
   "metadata": {
    "id": "rJGLScUOaYRg"
   },
   "source": [
    "## Объединение набора данных о поездках и о погоде"
   ]
  },
  {
   "cell_type": "markdown",
   "id": "Spz3wGDwaYRg",
   "metadata": {
    "id": "Spz3wGDwaYRg"
   },
   "source": [
    "т.к. у нас в данных о поездках нету столбца date, мы добавим его временно, данные и годе, месяце и т.д. возьмем из даты посадки. После объединения удалим столбец date и столбец с датой высадки, потому что нам надо предсказывать длительность, а не высчитывать."
   ]
  },
  {
   "cell_type": "code",
   "execution_count": null,
   "id": "z7nBBpdHaYRg",
   "metadata": {
    "id": "z7nBBpdHaYRg",
    "outputId": "4a84c9b3-3c98-42ce-8fa4-ecc2c5f00ff3",
    "scrolled": false
   },
   "outputs": [
    {
     "name": "stderr",
     "output_type": "stream",
     "text": [
      "<ipython-input-25-ec272f8b552e>:1: SettingWithCopyWarning: \n",
      "A value is trying to be set on a copy of a slice from a DataFrame.\n",
      "Try using .loc[row_indexer,col_indexer] = value instead\n",
      "\n",
      "See the caveats in the documentation: https://pandas.pydata.org/pandas-docs/stable/user_guide/indexing.html#returning-a-view-versus-a-copy\n",
      "  df['date'] = df['pickup_datetime'].apply(lambda x: str(x.day) + '-' + str(x.month) + '-' + str(x.year))\n"
     ]
    },
    {
     "data": {
      "text/html": [
       "<div>\n",
       "<style scoped>\n",
       "    .dataframe tbody tr th:only-of-type {\n",
       "        vertical-align: middle;\n",
       "    }\n",
       "\n",
       "    .dataframe tbody tr th {\n",
       "        vertical-align: top;\n",
       "    }\n",
       "\n",
       "    .dataframe thead th {\n",
       "        text-align: right;\n",
       "    }\n",
       "</style>\n",
       "<table border=\"1\" class=\"dataframe\">\n",
       "  <thead>\n",
       "    <tr style=\"text-align: right;\">\n",
       "      <th></th>\n",
       "      <th>vendor_id</th>\n",
       "      <th>pickup_datetime</th>\n",
       "      <th>dropoff_datetime</th>\n",
       "      <th>passenger_count</th>\n",
       "      <th>pickup_longitude</th>\n",
       "      <th>pickup_latitude</th>\n",
       "      <th>dropoff_longitude</th>\n",
       "      <th>dropoff_latitude</th>\n",
       "      <th>store_and_fwd_flag</th>\n",
       "      <th>trip_duration</th>\n",
       "      <th>maximum temperature</th>\n",
       "      <th>minimum temperature</th>\n",
       "      <th>average temperature</th>\n",
       "      <th>precipitation</th>\n",
       "      <th>snow fall</th>\n",
       "      <th>snow depth</th>\n",
       "    </tr>\n",
       "  </thead>\n",
       "  <tbody>\n",
       "    <tr>\n",
       "      <th>0</th>\n",
       "      <td>2</td>\n",
       "      <td>2016-03-14 17:24:55</td>\n",
       "      <td>2016-03-14 17:32:30</td>\n",
       "      <td>1</td>\n",
       "      <td>-73.982155</td>\n",
       "      <td>40.767937</td>\n",
       "      <td>-73.964630</td>\n",
       "      <td>40.765602</td>\n",
       "      <td>0</td>\n",
       "      <td>7.583333</td>\n",
       "      <td>10.555556</td>\n",
       "      <td>4.444444</td>\n",
       "      <td>7.500000</td>\n",
       "      <td>0.29</td>\n",
       "      <td>0.0</td>\n",
       "      <td>0.0</td>\n",
       "    </tr>\n",
       "    <tr>\n",
       "      <th>1</th>\n",
       "      <td>1</td>\n",
       "      <td>2016-03-14 14:05:39</td>\n",
       "      <td>2016-03-14 14:28:05</td>\n",
       "      <td>1</td>\n",
       "      <td>-73.975090</td>\n",
       "      <td>40.758766</td>\n",
       "      <td>-73.953201</td>\n",
       "      <td>40.765068</td>\n",
       "      <td>0</td>\n",
       "      <td>22.433333</td>\n",
       "      <td>10.555556</td>\n",
       "      <td>4.444444</td>\n",
       "      <td>7.500000</td>\n",
       "      <td>0.29</td>\n",
       "      <td>0.0</td>\n",
       "      <td>0.0</td>\n",
       "    </tr>\n",
       "    <tr>\n",
       "      <th>2</th>\n",
       "      <td>1</td>\n",
       "      <td>2016-03-14 15:04:38</td>\n",
       "      <td>2016-03-14 15:16:13</td>\n",
       "      <td>1</td>\n",
       "      <td>-73.994484</td>\n",
       "      <td>40.745087</td>\n",
       "      <td>-73.998993</td>\n",
       "      <td>40.722710</td>\n",
       "      <td>0</td>\n",
       "      <td>11.583333</td>\n",
       "      <td>10.555556</td>\n",
       "      <td>4.444444</td>\n",
       "      <td>7.500000</td>\n",
       "      <td>0.29</td>\n",
       "      <td>0.0</td>\n",
       "      <td>0.0</td>\n",
       "    </tr>\n",
       "    <tr>\n",
       "      <th>3</th>\n",
       "      <td>2</td>\n",
       "      <td>2016-03-14 04:24:36</td>\n",
       "      <td>2016-03-14 04:37:11</td>\n",
       "      <td>3</td>\n",
       "      <td>-73.944359</td>\n",
       "      <td>40.714489</td>\n",
       "      <td>-73.910530</td>\n",
       "      <td>40.709492</td>\n",
       "      <td>0</td>\n",
       "      <td>12.583333</td>\n",
       "      <td>10.555556</td>\n",
       "      <td>4.444444</td>\n",
       "      <td>7.500000</td>\n",
       "      <td>0.29</td>\n",
       "      <td>0.0</td>\n",
       "      <td>0.0</td>\n",
       "    </tr>\n",
       "    <tr>\n",
       "      <th>4</th>\n",
       "      <td>2</td>\n",
       "      <td>2016-03-14 14:57:56</td>\n",
       "      <td>2016-03-14 15:15:26</td>\n",
       "      <td>1</td>\n",
       "      <td>-73.952881</td>\n",
       "      <td>40.766468</td>\n",
       "      <td>-73.978630</td>\n",
       "      <td>40.761921</td>\n",
       "      <td>0</td>\n",
       "      <td>17.500000</td>\n",
       "      <td>10.555556</td>\n",
       "      <td>4.444444</td>\n",
       "      <td>7.500000</td>\n",
       "      <td>0.29</td>\n",
       "      <td>0.0</td>\n",
       "      <td>0.0</td>\n",
       "    </tr>\n",
       "    <tr>\n",
       "      <th>...</th>\n",
       "      <td>...</td>\n",
       "      <td>...</td>\n",
       "      <td>...</td>\n",
       "      <td>...</td>\n",
       "      <td>...</td>\n",
       "      <td>...</td>\n",
       "      <td>...</td>\n",
       "      <td>...</td>\n",
       "      <td>...</td>\n",
       "      <td>...</td>\n",
       "      <td>...</td>\n",
       "      <td>...</td>\n",
       "      <td>...</td>\n",
       "      <td>...</td>\n",
       "      <td>...</td>\n",
       "      <td>...</td>\n",
       "    </tr>\n",
       "    <tr>\n",
       "      <th>964653</th>\n",
       "      <td>2</td>\n",
       "      <td>2016-04-03 01:57:00</td>\n",
       "      <td>2016-04-03 02:20:00</td>\n",
       "      <td>1</td>\n",
       "      <td>-73.987907</td>\n",
       "      <td>40.720570</td>\n",
       "      <td>-73.977890</td>\n",
       "      <td>40.664261</td>\n",
       "      <td>0</td>\n",
       "      <td>22.500000</td>\n",
       "      <td>10.000000</td>\n",
       "      <td>1.111111</td>\n",
       "      <td>5.555556</td>\n",
       "      <td>0.09</td>\n",
       "      <td>0.0</td>\n",
       "      <td>0.0</td>\n",
       "    </tr>\n",
       "    <tr>\n",
       "      <th>964654</th>\n",
       "      <td>1</td>\n",
       "      <td>2016-04-03 20:06:00</td>\n",
       "      <td>2016-04-03 20:10:00</td>\n",
       "      <td>1</td>\n",
       "      <td>-73.995155</td>\n",
       "      <td>40.754650</td>\n",
       "      <td>-73.987556</td>\n",
       "      <td>40.760303</td>\n",
       "      <td>0</td>\n",
       "      <td>3.566667</td>\n",
       "      <td>10.000000</td>\n",
       "      <td>1.111111</td>\n",
       "      <td>5.555556</td>\n",
       "      <td>0.09</td>\n",
       "      <td>0.0</td>\n",
       "      <td>0.0</td>\n",
       "    </tr>\n",
       "    <tr>\n",
       "      <th>964655</th>\n",
       "      <td>2</td>\n",
       "      <td>2016-04-03 10:17:00</td>\n",
       "      <td>2016-04-03 10:20:00</td>\n",
       "      <td>4</td>\n",
       "      <td>-73.966782</td>\n",
       "      <td>40.767059</td>\n",
       "      <td>-73.963593</td>\n",
       "      <td>40.773682</td>\n",
       "      <td>0</td>\n",
       "      <td>3.400000</td>\n",
       "      <td>10.000000</td>\n",
       "      <td>1.111111</td>\n",
       "      <td>5.555556</td>\n",
       "      <td>0.09</td>\n",
       "      <td>0.0</td>\n",
       "      <td>0.0</td>\n",
       "    </tr>\n",
       "    <tr>\n",
       "      <th>964656</th>\n",
       "      <td>2</td>\n",
       "      <td>2016-04-03 11:06:00</td>\n",
       "      <td>2016-04-03 11:19:00</td>\n",
       "      <td>1</td>\n",
       "      <td>-74.006592</td>\n",
       "      <td>40.733021</td>\n",
       "      <td>-73.997162</td>\n",
       "      <td>40.716499</td>\n",
       "      <td>0</td>\n",
       "      <td>13.233333</td>\n",
       "      <td>10.000000</td>\n",
       "      <td>1.111111</td>\n",
       "      <td>5.555556</td>\n",
       "      <td>0.09</td>\n",
       "      <td>0.0</td>\n",
       "      <td>0.0</td>\n",
       "    </tr>\n",
       "    <tr>\n",
       "      <th>964657</th>\n",
       "      <td>2</td>\n",
       "      <td>2016-04-03 14:54:00</td>\n",
       "      <td>2016-04-03 14:57:00</td>\n",
       "      <td>1</td>\n",
       "      <td>-73.968300</td>\n",
       "      <td>40.786659</td>\n",
       "      <td>-73.975952</td>\n",
       "      <td>40.785629</td>\n",
       "      <td>0</td>\n",
       "      <td>2.716667</td>\n",
       "      <td>10.000000</td>\n",
       "      <td>1.111111</td>\n",
       "      <td>5.555556</td>\n",
       "      <td>0.09</td>\n",
       "      <td>0.0</td>\n",
       "      <td>0.0</td>\n",
       "    </tr>\n",
       "  </tbody>\n",
       "</table>\n",
       "<p>964658 rows × 16 columns</p>\n",
       "</div>"
      ],
      "text/plain": [
       "        vendor_id     pickup_datetime    dropoff_datetime  passenger_count  \\\n",
       "0               2 2016-03-14 17:24:55 2016-03-14 17:32:30                1   \n",
       "1               1 2016-03-14 14:05:39 2016-03-14 14:28:05                1   \n",
       "2               1 2016-03-14 15:04:38 2016-03-14 15:16:13                1   \n",
       "3               2 2016-03-14 04:24:36 2016-03-14 04:37:11                3   \n",
       "4               2 2016-03-14 14:57:56 2016-03-14 15:15:26                1   \n",
       "...           ...                 ...                 ...              ...   \n",
       "964653          2 2016-04-03 01:57:00 2016-04-03 02:20:00                1   \n",
       "964654          1 2016-04-03 20:06:00 2016-04-03 20:10:00                1   \n",
       "964655          2 2016-04-03 10:17:00 2016-04-03 10:20:00                4   \n",
       "964656          2 2016-04-03 11:06:00 2016-04-03 11:19:00                1   \n",
       "964657          2 2016-04-03 14:54:00 2016-04-03 14:57:00                1   \n",
       "\n",
       "        pickup_longitude  pickup_latitude  dropoff_longitude  \\\n",
       "0             -73.982155        40.767937         -73.964630   \n",
       "1             -73.975090        40.758766         -73.953201   \n",
       "2             -73.994484        40.745087         -73.998993   \n",
       "3             -73.944359        40.714489         -73.910530   \n",
       "4             -73.952881        40.766468         -73.978630   \n",
       "...                  ...              ...                ...   \n",
       "964653        -73.987907        40.720570         -73.977890   \n",
       "964654        -73.995155        40.754650         -73.987556   \n",
       "964655        -73.966782        40.767059         -73.963593   \n",
       "964656        -74.006592        40.733021         -73.997162   \n",
       "964657        -73.968300        40.786659         -73.975952   \n",
       "\n",
       "        dropoff_latitude  store_and_fwd_flag  trip_duration  \\\n",
       "0              40.765602                   0       7.583333   \n",
       "1              40.765068                   0      22.433333   \n",
       "2              40.722710                   0      11.583333   \n",
       "3              40.709492                   0      12.583333   \n",
       "4              40.761921                   0      17.500000   \n",
       "...                  ...                 ...            ...   \n",
       "964653         40.664261                   0      22.500000   \n",
       "964654         40.760303                   0       3.566667   \n",
       "964655         40.773682                   0       3.400000   \n",
       "964656         40.716499                   0      13.233333   \n",
       "964657         40.785629                   0       2.716667   \n",
       "\n",
       "        maximum temperature  minimum temperature  average temperature  \\\n",
       "0                 10.555556             4.444444             7.500000   \n",
       "1                 10.555556             4.444444             7.500000   \n",
       "2                 10.555556             4.444444             7.500000   \n",
       "3                 10.555556             4.444444             7.500000   \n",
       "4                 10.555556             4.444444             7.500000   \n",
       "...                     ...                  ...                  ...   \n",
       "964653            10.000000             1.111111             5.555556   \n",
       "964654            10.000000             1.111111             5.555556   \n",
       "964655            10.000000             1.111111             5.555556   \n",
       "964656            10.000000             1.111111             5.555556   \n",
       "964657            10.000000             1.111111             5.555556   \n",
       "\n",
       "        precipitation  snow fall  snow depth  \n",
       "0                0.29        0.0         0.0  \n",
       "1                0.29        0.0         0.0  \n",
       "2                0.29        0.0         0.0  \n",
       "3                0.29        0.0         0.0  \n",
       "4                0.29        0.0         0.0  \n",
       "...               ...        ...         ...  \n",
       "964653           0.09        0.0         0.0  \n",
       "964654           0.09        0.0         0.0  \n",
       "964655           0.09        0.0         0.0  \n",
       "964656           0.09        0.0         0.0  \n",
       "964657           0.09        0.0         0.0  \n",
       "\n",
       "[964658 rows x 16 columns]"
      ]
     },
     "execution_count": 25,
     "metadata": {},
     "output_type": "execute_result"
    }
   ],
   "source": [
    "df['date'] = df['pickup_datetime'].apply(lambda x: str(x.day) + '-' + str(x.month) + '-' + str(x.year))\n",
    "df = df.merge(weather, on='date').drop(['date'], axis=1)\n",
    "df"
   ]
  },
  {
   "cell_type": "markdown",
   "id": "ts208_n7aYRg",
   "metadata": {
    "id": "ts208_n7aYRg"
   },
   "source": [
    "### Добавление временных признаков"
   ]
  },
  {
   "cell_type": "code",
   "execution_count": null,
   "id": "JkFnG4qqaYRh",
   "metadata": {
    "id": "JkFnG4qqaYRh",
    "outputId": "0b549fc8-71a5-4a63-987f-99fe61ca4f99"
   },
   "outputs": [
    {
     "data": {
      "text/html": [
       "<div>\n",
       "<style scoped>\n",
       "    .dataframe tbody tr th:only-of-type {\n",
       "        vertical-align: middle;\n",
       "    }\n",
       "\n",
       "    .dataframe tbody tr th {\n",
       "        vertical-align: top;\n",
       "    }\n",
       "\n",
       "    .dataframe thead th {\n",
       "        text-align: right;\n",
       "    }\n",
       "</style>\n",
       "<table border=\"1\" class=\"dataframe\">\n",
       "  <thead>\n",
       "    <tr style=\"text-align: right;\">\n",
       "      <th></th>\n",
       "      <th>vendor_id</th>\n",
       "      <th>pickup_datetime</th>\n",
       "      <th>dropoff_datetime</th>\n",
       "      <th>passenger_count</th>\n",
       "      <th>pickup_longitude</th>\n",
       "      <th>pickup_latitude</th>\n",
       "      <th>dropoff_longitude</th>\n",
       "      <th>dropoff_latitude</th>\n",
       "      <th>store_and_fwd_flag</th>\n",
       "      <th>trip_duration</th>\n",
       "      <th>maximum temperature</th>\n",
       "      <th>minimum temperature</th>\n",
       "      <th>average temperature</th>\n",
       "      <th>precipitation</th>\n",
       "      <th>snow fall</th>\n",
       "      <th>snow depth</th>\n",
       "      <th>year</th>\n",
       "      <th>month</th>\n",
       "      <th>day</th>\n",
       "      <th>hour</th>\n",
       "    </tr>\n",
       "  </thead>\n",
       "  <tbody>\n",
       "    <tr>\n",
       "      <th>0</th>\n",
       "      <td>2</td>\n",
       "      <td>2016-03-14 17:24:55</td>\n",
       "      <td>2016-03-14 17:32:30</td>\n",
       "      <td>1</td>\n",
       "      <td>-73.982155</td>\n",
       "      <td>40.767937</td>\n",
       "      <td>-73.964630</td>\n",
       "      <td>40.765602</td>\n",
       "      <td>0</td>\n",
       "      <td>7.583333</td>\n",
       "      <td>10.555556</td>\n",
       "      <td>4.444444</td>\n",
       "      <td>7.500000</td>\n",
       "      <td>0.29</td>\n",
       "      <td>0.0</td>\n",
       "      <td>0.0</td>\n",
       "      <td>2016</td>\n",
       "      <td>3</td>\n",
       "      <td>14</td>\n",
       "      <td>17</td>\n",
       "    </tr>\n",
       "    <tr>\n",
       "      <th>1</th>\n",
       "      <td>1</td>\n",
       "      <td>2016-03-14 14:05:39</td>\n",
       "      <td>2016-03-14 14:28:05</td>\n",
       "      <td>1</td>\n",
       "      <td>-73.975090</td>\n",
       "      <td>40.758766</td>\n",
       "      <td>-73.953201</td>\n",
       "      <td>40.765068</td>\n",
       "      <td>0</td>\n",
       "      <td>22.433333</td>\n",
       "      <td>10.555556</td>\n",
       "      <td>4.444444</td>\n",
       "      <td>7.500000</td>\n",
       "      <td>0.29</td>\n",
       "      <td>0.0</td>\n",
       "      <td>0.0</td>\n",
       "      <td>2016</td>\n",
       "      <td>3</td>\n",
       "      <td>14</td>\n",
       "      <td>14</td>\n",
       "    </tr>\n",
       "    <tr>\n",
       "      <th>2</th>\n",
       "      <td>1</td>\n",
       "      <td>2016-03-14 15:04:38</td>\n",
       "      <td>2016-03-14 15:16:13</td>\n",
       "      <td>1</td>\n",
       "      <td>-73.994484</td>\n",
       "      <td>40.745087</td>\n",
       "      <td>-73.998993</td>\n",
       "      <td>40.722710</td>\n",
       "      <td>0</td>\n",
       "      <td>11.583333</td>\n",
       "      <td>10.555556</td>\n",
       "      <td>4.444444</td>\n",
       "      <td>7.500000</td>\n",
       "      <td>0.29</td>\n",
       "      <td>0.0</td>\n",
       "      <td>0.0</td>\n",
       "      <td>2016</td>\n",
       "      <td>3</td>\n",
       "      <td>14</td>\n",
       "      <td>15</td>\n",
       "    </tr>\n",
       "    <tr>\n",
       "      <th>3</th>\n",
       "      <td>2</td>\n",
       "      <td>2016-03-14 04:24:36</td>\n",
       "      <td>2016-03-14 04:37:11</td>\n",
       "      <td>3</td>\n",
       "      <td>-73.944359</td>\n",
       "      <td>40.714489</td>\n",
       "      <td>-73.910530</td>\n",
       "      <td>40.709492</td>\n",
       "      <td>0</td>\n",
       "      <td>12.583333</td>\n",
       "      <td>10.555556</td>\n",
       "      <td>4.444444</td>\n",
       "      <td>7.500000</td>\n",
       "      <td>0.29</td>\n",
       "      <td>0.0</td>\n",
       "      <td>0.0</td>\n",
       "      <td>2016</td>\n",
       "      <td>3</td>\n",
       "      <td>14</td>\n",
       "      <td>4</td>\n",
       "    </tr>\n",
       "    <tr>\n",
       "      <th>4</th>\n",
       "      <td>2</td>\n",
       "      <td>2016-03-14 14:57:56</td>\n",
       "      <td>2016-03-14 15:15:26</td>\n",
       "      <td>1</td>\n",
       "      <td>-73.952881</td>\n",
       "      <td>40.766468</td>\n",
       "      <td>-73.978630</td>\n",
       "      <td>40.761921</td>\n",
       "      <td>0</td>\n",
       "      <td>17.500000</td>\n",
       "      <td>10.555556</td>\n",
       "      <td>4.444444</td>\n",
       "      <td>7.500000</td>\n",
       "      <td>0.29</td>\n",
       "      <td>0.0</td>\n",
       "      <td>0.0</td>\n",
       "      <td>2016</td>\n",
       "      <td>3</td>\n",
       "      <td>14</td>\n",
       "      <td>15</td>\n",
       "    </tr>\n",
       "    <tr>\n",
       "      <th>...</th>\n",
       "      <td>...</td>\n",
       "      <td>...</td>\n",
       "      <td>...</td>\n",
       "      <td>...</td>\n",
       "      <td>...</td>\n",
       "      <td>...</td>\n",
       "      <td>...</td>\n",
       "      <td>...</td>\n",
       "      <td>...</td>\n",
       "      <td>...</td>\n",
       "      <td>...</td>\n",
       "      <td>...</td>\n",
       "      <td>...</td>\n",
       "      <td>...</td>\n",
       "      <td>...</td>\n",
       "      <td>...</td>\n",
       "      <td>...</td>\n",
       "      <td>...</td>\n",
       "      <td>...</td>\n",
       "      <td>...</td>\n",
       "    </tr>\n",
       "    <tr>\n",
       "      <th>964653</th>\n",
       "      <td>2</td>\n",
       "      <td>2016-04-03 01:57:00</td>\n",
       "      <td>2016-04-03 02:20:00</td>\n",
       "      <td>1</td>\n",
       "      <td>-73.987907</td>\n",
       "      <td>40.720570</td>\n",
       "      <td>-73.977890</td>\n",
       "      <td>40.664261</td>\n",
       "      <td>0</td>\n",
       "      <td>22.500000</td>\n",
       "      <td>10.000000</td>\n",
       "      <td>1.111111</td>\n",
       "      <td>5.555556</td>\n",
       "      <td>0.09</td>\n",
       "      <td>0.0</td>\n",
       "      <td>0.0</td>\n",
       "      <td>2016</td>\n",
       "      <td>4</td>\n",
       "      <td>3</td>\n",
       "      <td>2</td>\n",
       "    </tr>\n",
       "    <tr>\n",
       "      <th>964654</th>\n",
       "      <td>1</td>\n",
       "      <td>2016-04-03 20:06:00</td>\n",
       "      <td>2016-04-03 20:10:00</td>\n",
       "      <td>1</td>\n",
       "      <td>-73.995155</td>\n",
       "      <td>40.754650</td>\n",
       "      <td>-73.987556</td>\n",
       "      <td>40.760303</td>\n",
       "      <td>0</td>\n",
       "      <td>3.566667</td>\n",
       "      <td>10.000000</td>\n",
       "      <td>1.111111</td>\n",
       "      <td>5.555556</td>\n",
       "      <td>0.09</td>\n",
       "      <td>0.0</td>\n",
       "      <td>0.0</td>\n",
       "      <td>2016</td>\n",
       "      <td>4</td>\n",
       "      <td>3</td>\n",
       "      <td>20</td>\n",
       "    </tr>\n",
       "    <tr>\n",
       "      <th>964655</th>\n",
       "      <td>2</td>\n",
       "      <td>2016-04-03 10:17:00</td>\n",
       "      <td>2016-04-03 10:20:00</td>\n",
       "      <td>4</td>\n",
       "      <td>-73.966782</td>\n",
       "      <td>40.767059</td>\n",
       "      <td>-73.963593</td>\n",
       "      <td>40.773682</td>\n",
       "      <td>0</td>\n",
       "      <td>3.400000</td>\n",
       "      <td>10.000000</td>\n",
       "      <td>1.111111</td>\n",
       "      <td>5.555556</td>\n",
       "      <td>0.09</td>\n",
       "      <td>0.0</td>\n",
       "      <td>0.0</td>\n",
       "      <td>2016</td>\n",
       "      <td>4</td>\n",
       "      <td>3</td>\n",
       "      <td>10</td>\n",
       "    </tr>\n",
       "    <tr>\n",
       "      <th>964656</th>\n",
       "      <td>2</td>\n",
       "      <td>2016-04-03 11:06:00</td>\n",
       "      <td>2016-04-03 11:19:00</td>\n",
       "      <td>1</td>\n",
       "      <td>-74.006592</td>\n",
       "      <td>40.733021</td>\n",
       "      <td>-73.997162</td>\n",
       "      <td>40.716499</td>\n",
       "      <td>0</td>\n",
       "      <td>13.233333</td>\n",
       "      <td>10.000000</td>\n",
       "      <td>1.111111</td>\n",
       "      <td>5.555556</td>\n",
       "      <td>0.09</td>\n",
       "      <td>0.0</td>\n",
       "      <td>0.0</td>\n",
       "      <td>2016</td>\n",
       "      <td>4</td>\n",
       "      <td>3</td>\n",
       "      <td>11</td>\n",
       "    </tr>\n",
       "    <tr>\n",
       "      <th>964657</th>\n",
       "      <td>2</td>\n",
       "      <td>2016-04-03 14:54:00</td>\n",
       "      <td>2016-04-03 14:57:00</td>\n",
       "      <td>1</td>\n",
       "      <td>-73.968300</td>\n",
       "      <td>40.786659</td>\n",
       "      <td>-73.975952</td>\n",
       "      <td>40.785629</td>\n",
       "      <td>0</td>\n",
       "      <td>2.716667</td>\n",
       "      <td>10.000000</td>\n",
       "      <td>1.111111</td>\n",
       "      <td>5.555556</td>\n",
       "      <td>0.09</td>\n",
       "      <td>0.0</td>\n",
       "      <td>0.0</td>\n",
       "      <td>2016</td>\n",
       "      <td>4</td>\n",
       "      <td>3</td>\n",
       "      <td>14</td>\n",
       "    </tr>\n",
       "  </tbody>\n",
       "</table>\n",
       "<p>964658 rows × 20 columns</p>\n",
       "</div>"
      ],
      "text/plain": [
       "        vendor_id     pickup_datetime    dropoff_datetime  passenger_count  \\\n",
       "0               2 2016-03-14 17:24:55 2016-03-14 17:32:30                1   \n",
       "1               1 2016-03-14 14:05:39 2016-03-14 14:28:05                1   \n",
       "2               1 2016-03-14 15:04:38 2016-03-14 15:16:13                1   \n",
       "3               2 2016-03-14 04:24:36 2016-03-14 04:37:11                3   \n",
       "4               2 2016-03-14 14:57:56 2016-03-14 15:15:26                1   \n",
       "...           ...                 ...                 ...              ...   \n",
       "964653          2 2016-04-03 01:57:00 2016-04-03 02:20:00                1   \n",
       "964654          1 2016-04-03 20:06:00 2016-04-03 20:10:00                1   \n",
       "964655          2 2016-04-03 10:17:00 2016-04-03 10:20:00                4   \n",
       "964656          2 2016-04-03 11:06:00 2016-04-03 11:19:00                1   \n",
       "964657          2 2016-04-03 14:54:00 2016-04-03 14:57:00                1   \n",
       "\n",
       "        pickup_longitude  pickup_latitude  dropoff_longitude  \\\n",
       "0             -73.982155        40.767937         -73.964630   \n",
       "1             -73.975090        40.758766         -73.953201   \n",
       "2             -73.994484        40.745087         -73.998993   \n",
       "3             -73.944359        40.714489         -73.910530   \n",
       "4             -73.952881        40.766468         -73.978630   \n",
       "...                  ...              ...                ...   \n",
       "964653        -73.987907        40.720570         -73.977890   \n",
       "964654        -73.995155        40.754650         -73.987556   \n",
       "964655        -73.966782        40.767059         -73.963593   \n",
       "964656        -74.006592        40.733021         -73.997162   \n",
       "964657        -73.968300        40.786659         -73.975952   \n",
       "\n",
       "        dropoff_latitude  store_and_fwd_flag  trip_duration  \\\n",
       "0              40.765602                   0       7.583333   \n",
       "1              40.765068                   0      22.433333   \n",
       "2              40.722710                   0      11.583333   \n",
       "3              40.709492                   0      12.583333   \n",
       "4              40.761921                   0      17.500000   \n",
       "...                  ...                 ...            ...   \n",
       "964653         40.664261                   0      22.500000   \n",
       "964654         40.760303                   0       3.566667   \n",
       "964655         40.773682                   0       3.400000   \n",
       "964656         40.716499                   0      13.233333   \n",
       "964657         40.785629                   0       2.716667   \n",
       "\n",
       "        maximum temperature  minimum temperature  average temperature  \\\n",
       "0                 10.555556             4.444444             7.500000   \n",
       "1                 10.555556             4.444444             7.500000   \n",
       "2                 10.555556             4.444444             7.500000   \n",
       "3                 10.555556             4.444444             7.500000   \n",
       "4                 10.555556             4.444444             7.500000   \n",
       "...                     ...                  ...                  ...   \n",
       "964653            10.000000             1.111111             5.555556   \n",
       "964654            10.000000             1.111111             5.555556   \n",
       "964655            10.000000             1.111111             5.555556   \n",
       "964656            10.000000             1.111111             5.555556   \n",
       "964657            10.000000             1.111111             5.555556   \n",
       "\n",
       "        precipitation  snow fall  snow depth  year  month  day  hour  \n",
       "0                0.29        0.0         0.0  2016      3   14    17  \n",
       "1                0.29        0.0         0.0  2016      3   14    14  \n",
       "2                0.29        0.0         0.0  2016      3   14    15  \n",
       "3                0.29        0.0         0.0  2016      3   14     4  \n",
       "4                0.29        0.0         0.0  2016      3   14    15  \n",
       "...               ...        ...         ...   ...    ...  ...   ...  \n",
       "964653           0.09        0.0         0.0  2016      4    3     2  \n",
       "964654           0.09        0.0         0.0  2016      4    3    20  \n",
       "964655           0.09        0.0         0.0  2016      4    3    10  \n",
       "964656           0.09        0.0         0.0  2016      4    3    11  \n",
       "964657           0.09        0.0         0.0  2016      4    3    14  \n",
       "\n",
       "[964658 rows x 20 columns]"
      ]
     },
     "execution_count": 26,
     "metadata": {},
     "output_type": "execute_result"
    }
   ],
   "source": [
    "df['year'] = df['dropoff_datetime'].apply(lambda x: x.year)\n",
    "df['month'] = df['dropoff_datetime'].apply(lambda x: x.month)\n",
    "df['day'] = df['dropoff_datetime'].apply(lambda x: x.day)\n",
    "df['hour'] = df['dropoff_datetime'].apply(lambda x: x.hour)\n",
    "df"
   ]
  },
  {
   "cell_type": "markdown",
   "id": "uF6AHehfaYRh",
   "metadata": {
    "id": "uF6AHehfaYRh"
   },
   "source": [
    "Мы добавили столбцы год, месяц, день и час в данные, т.к. модель не умеет принимать и обрабатывать даты. Если простым языком, то мы просто разбили по столбцам столбец dropoff_datetime, а столбец dropoff_datetime можно удалить"
   ]
  },
  {
   "cell_type": "code",
   "execution_count": null,
   "id": "Xn01z_DhaYRh",
   "metadata": {
    "id": "Xn01z_DhaYRh"
   },
   "outputs": [],
   "source": [
    "df.drop('dropoff_datetime', axis=1, inplace=True)"
   ]
  },
  {
   "cell_type": "code",
   "execution_count": null,
   "id": "AbIqTXKsaYRh",
   "metadata": {
    "id": "AbIqTXKsaYRh",
    "outputId": "11a8973c-1084-4b0e-a8fc-1a4a4f5fcc41"
   },
   "outputs": [
    {
     "name": "stdout",
     "output_type": "stream",
     "text": [
      "<class 'pandas.core.frame.DataFrame'>\n",
      "Int64Index: 964658 entries, 0 to 964657\n",
      "Data columns (total 20 columns):\n",
      " #   Column                Non-Null Count   Dtype         \n",
      "---  ------                --------------   -----         \n",
      " 0   vendor_id             964658 non-null  int64         \n",
      " 1   pickup_datetime       964658 non-null  datetime64[ns]\n",
      " 2   passenger_count       964658 non-null  int64         \n",
      " 3   pickup_longitude      964658 non-null  float64       \n",
      " 4   pickup_latitude       964658 non-null  float64       \n",
      " 5   dropoff_longitude     964658 non-null  float64       \n",
      " 6   dropoff_latitude      964658 non-null  float64       \n",
      " 7   store_and_fwd_flag    964658 non-null  int64         \n",
      " 8   trip_duration         964658 non-null  float64       \n",
      " 9   maximum temperature   964658 non-null  float64       \n",
      " 10  minimum temperature   964658 non-null  float64       \n",
      " 11  average temperature   964658 non-null  float64       \n",
      " 12  precipitation         964658 non-null  float64       \n",
      " 13  snow fall             964658 non-null  float64       \n",
      " 14  snow depth            964658 non-null  float64       \n",
      " 15  year                  964658 non-null  int64         \n",
      " 16  month                 964658 non-null  int64         \n",
      " 17  day                   964658 non-null  int64         \n",
      " 18  hour                  964658 non-null  int64         \n",
      " 19  category_travel_time  964658 non-null  float64       \n",
      "dtypes: datetime64[ns](1), float64(12), int64(7)\n",
      "memory usage: 154.6 MB\n"
     ]
    }
   ],
   "source": [
    "df['category_travel_time']=df['trip_duration']\n",
    "df.info()"
   ]
  },
  {
   "cell_type": "code",
   "execution_count": null,
   "id": "JR8VIJocaYRh",
   "metadata": {
    "id": "JR8VIJocaYRh",
    "outputId": "40960df4-854e-4b9a-9e8b-2197270ea823"
   },
   "outputs": [
    {
     "name": "stdout",
     "output_type": "stream",
     "text": [
      "<class 'pandas.core.frame.DataFrame'>\n",
      "Int64Index: 964658 entries, 0 to 964657\n",
      "Data columns (total 19 columns):\n",
      " #   Column                Non-Null Count   Dtype         \n",
      "---  ------                --------------   -----         \n",
      " 0   vendor_id             964658 non-null  int64         \n",
      " 1   pickup_datetime       964658 non-null  datetime64[ns]\n",
      " 2   passenger_count       964658 non-null  int64         \n",
      " 3   pickup_longitude      964658 non-null  float64       \n",
      " 4   pickup_latitude       964658 non-null  float64       \n",
      " 5   dropoff_longitude     964658 non-null  float64       \n",
      " 6   dropoff_latitude      964658 non-null  float64       \n",
      " 7   store_and_fwd_flag    964658 non-null  int64         \n",
      " 8   maximum temperature   964658 non-null  float64       \n",
      " 9   minimum temperature   964658 non-null  float64       \n",
      " 10  average temperature   964658 non-null  float64       \n",
      " 11  precipitation         964658 non-null  float64       \n",
      " 12  snow fall             964658 non-null  float64       \n",
      " 13  snow depth            964658 non-null  float64       \n",
      " 14  year                  964658 non-null  int64         \n",
      " 15  month                 964658 non-null  int64         \n",
      " 16  day                   964658 non-null  int64         \n",
      " 17  hour                  964658 non-null  int64         \n",
      " 18  category_travel_time  964658 non-null  float64       \n",
      "dtypes: datetime64[ns](1), float64(11), int64(7)\n",
      "memory usage: 147.2 MB\n"
     ]
    }
   ],
   "source": [
    "q1=df.category_travel_time.quantile(0.25)\n",
    "q2=df.category_travel_time.quantile(0.5)\n",
    "q3=df.category_travel_time.quantile(0.75)\n",
    "\n",
    "df.category_travel_time=np.where((df.category_travel_time<=q1),1,df.category_travel_time)\n",
    "df.category_travel_time=np.where(((df.category_travel_time<q2)&(df.category_travel_time>q1)),2,df.category_travel_time)\n",
    "df.category_travel_time=np.where(((df.category_travel_time<q3)&(df.category_travel_time>=q2)),3,df.category_travel_time)\n",
    "df.category_travel_time=np.where((df.category_travel_time>=q3),4,df.category_travel_time)\n",
    "\n",
    "df.drop('trip_duration', axis=1, inplace=True)\n",
    "df.info()"
   ]
  },
  {
   "cell_type": "markdown",
   "id": "O89ApFSkaYRh",
   "metadata": {
    "id": "O89ApFSkaYRh"
   },
   "source": [
    "# Сохранение данных и вывод о проделанной работе"
   ]
  },
  {
   "cell_type": "code",
   "execution_count": null,
   "id": "TJ2-bATSaYRh",
   "metadata": {
    "id": "TJ2-bATSaYRh"
   },
   "outputs": [],
   "source": [
    "# сохраняет в директорию, где лежит Report_C1.ipynb\n",
    "df.to_csv('C1_result.csv', index=False)"
   ]
  },
  {
   "cell_type": "markdown",
   "id": "7Y77hl8aaYRi",
   "metadata": {
    "id": "7Y77hl8aaYRi"
   },
   "source": [
    "**Вывод:** во время первой сессии были сделаны следующие вещи:\n",
    "1. обработаны пропуски во всех данных\n",
    "2. обработаны выбросы во всех данных\n",
    "3. данные приведены к приемлимому виду(отформатированы)\n",
    "4. объединены данные о всех поездках и о погоде в эти дни в один датасет и сохранены с расширением .csv"
   ]
  },
  {
   "cell_type": "code",
   "execution_count": null,
   "id": "eBBaEUInaYRi",
   "metadata": {
    "id": "eBBaEUInaYRi"
   },
   "outputs": [],
   "source": []
  },
  {
   "cell_type": "code",
   "execution_count": null,
   "id": "sbZrYUGEaYRi",
   "metadata": {
    "id": "sbZrYUGEaYRi"
   },
   "outputs": [],
   "source": []
  },
  {
   "cell_type": "code",
   "execution_count": null,
   "id": "njZIECStaYRi",
   "metadata": {
    "id": "njZIECStaYRi"
   },
   "outputs": [],
   "source": []
  }
 ],
 "metadata": {
  "colab": {
   "name": "Report_C1.ipynb",
   "provenance": []
  },
  "hide_input": false,
  "kernelspec": {
   "display_name": "Python 3 (ipykernel)",
   "language": "python",
   "name": "python3"
  },
  "language_info": {
   "codemirror_mode": {
    "name": "ipython",
    "version": 3
   },
   "file_extension": ".py",
   "mimetype": "text/x-python",
   "name": "python",
   "nbconvert_exporter": "python",
   "pygments_lexer": "ipython3",
   "version": "3.9.12"
  },
  "latex_envs": {
   "LaTeX_envs_menu_present": true,
   "autoclose": false,
   "autocomplete": true,
   "bibliofile": "biblio.bib",
   "cite_by": "apalike",
   "current_citInitial": 1,
   "eqLabelWithNumbers": true,
   "eqNumInitial": 1,
   "hotkeys": {
    "equation": "Ctrl-E",
    "itemize": "Ctrl-I"
   },
   "labels_anchors": false,
   "latex_user_defs": false,
   "report_style_numbering": false,
   "user_envs_cfg": false
  },
  "toc": {
   "base_numbering": 1,
   "nav_menu": {},
   "number_sections": true,
   "sideBar": true,
   "skip_h1_title": false,
   "title_cell": "Сессия 1",
   "title_sidebar": "Сессия 1",
   "toc_cell": true,
   "toc_position": {
    "height": "calc(100% - 180px)",
    "left": "10px",
    "top": "150px",
    "width": "272.422px"
   },
   "toc_section_display": true,
   "toc_window_display": true
  }
 },
 "nbformat": 4,
 "nbformat_minor": 5
}
